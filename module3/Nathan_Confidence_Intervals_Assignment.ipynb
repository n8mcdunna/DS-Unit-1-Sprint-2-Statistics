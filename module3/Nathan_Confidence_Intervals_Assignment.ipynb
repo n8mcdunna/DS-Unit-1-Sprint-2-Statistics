{
  "nbformat": 4,
  "nbformat_minor": 0,
  "metadata": {
    "colab": {
      "name": "Nathan_Confidence_Intervals_Assignment.ipynb",
      "provenance": [],
      "collapsed_sections": [],
      "include_colab_link": true
    },
    "kernelspec": {
      "name": "python3",
      "display_name": "Python 3"
    }
  },
  "cells": [
    {
      "cell_type": "markdown",
      "metadata": {
        "id": "view-in-github",
        "colab_type": "text"
      },
      "source": [
        "<a href=\"https://colab.research.google.com/github/n8mcdunna/DS-Unit-1-Sprint-2-Statistics/blob/master/module3/Nathan_Confidence_Intervals_Assignment.ipynb\" target=\"_parent\"><img src=\"https://colab.research.google.com/assets/colab-badge.svg\" alt=\"Open In Colab\"/></a>"
      ]
    },
    {
      "cell_type": "markdown",
      "metadata": {
        "id": "g_c3L9CeANiJ",
        "colab_type": "text"
      },
      "source": [
        "## Confidence Intervals\n",
        "\n",
        "Soft drinks like Coke and Pepsi are manufactured to have a standard caffeine content. For example, a 12-oz serving of Coke has 34mg of caffeine, and a 12-oz serving of Pepsi has 37.6mg of caffeine. However, fountain soft drinks are typically mixed in individual restaurant dispensers, so it is more difficult to maintain a standard level of caffeine per serving. In this study, researchers randomly sampled Coke, Diet Coke, Pepsi, and Diet Pepsi at a set of franchise restaurants and measured the caffeine content in 12oz of each soft drink2. The data is found in the Soda.xlsx dataset.\n",
        "\n",
        "Because individuals can be sensitive to caffeine – and because the manufacturers are interested in product consistency – we wish to estimate the mean caffeine content in 12oz of Coke served in franchise restaurants using a 95% confidence interval. \n",
        "\n",
        "You can find the Coke data here: 'https://raw.githubusercontent.com/Chelsea-Myers/Lambda-Intro/master/Coke.csv'\n",
        "\n",
        "The first variable is the sample ID and the second variable is the caffeine content in the 12-oz sample measured in mg.\n",
        "\n",
        "Source: A.N. Garand and L.N. Bell (1997). \"Caffeine Content of Fountain and Private-Label Store Brand Carbonated Beverages,\" Journal of the American Dietetic Association, Vol. 97, #2, pp. 179-182.\n",
        "\n",
        "\n"
      ]
    },
    {
      "cell_type": "markdown",
      "metadata": {
        "id": "oaJpAIakUo31",
        "colab_type": "text"
      },
      "source": [
        "###1) Load the dataset and print the first few rows"
      ]
    },
    {
      "cell_type": "code",
      "metadata": {
        "id": "yXwMJQGrAIbO",
        "colab_type": "code",
        "colab": {}
      },
      "source": [
        "import pandas as pd\n",
        "import numpy as np\n",
        "from scipy.stats import t"
      ],
      "execution_count": 3,
      "outputs": []
    },
    {
      "cell_type": "code",
      "metadata": {
        "id": "pYsFvm1dPygj",
        "colab_type": "code",
        "colab": {
          "base_uri": "https://localhost:8080/",
          "height": 204
        },
        "outputId": "b5c3825d-8b30-4c96-e1a3-2830e0ddac39"
      },
      "source": [
        "df = pd.read_csv('https://raw.githubusercontent.com/Chelsea-Myers/Lambda-Intro/master/Coke.csv')\n",
        "df.head()"
      ],
      "execution_count": 4,
      "outputs": [
        {
          "output_type": "execute_result",
          "data": {
            "text/html": [
              "<div>\n",
              "<style scoped>\n",
              "    .dataframe tbody tr th:only-of-type {\n",
              "        vertical-align: middle;\n",
              "    }\n",
              "\n",
              "    .dataframe tbody tr th {\n",
              "        vertical-align: top;\n",
              "    }\n",
              "\n",
              "    .dataframe thead th {\n",
              "        text-align: right;\n",
              "    }\n",
              "</style>\n",
              "<table border=\"1\" class=\"dataframe\">\n",
              "  <thead>\n",
              "    <tr style=\"text-align: right;\">\n",
              "      <th></th>\n",
              "      <th>Drink</th>\n",
              "      <th>Caffeine</th>\n",
              "    </tr>\n",
              "  </thead>\n",
              "  <tbody>\n",
              "    <tr>\n",
              "      <th>0</th>\n",
              "      <td>1</td>\n",
              "      <td>47.32</td>\n",
              "    </tr>\n",
              "    <tr>\n",
              "      <th>1</th>\n",
              "      <td>2</td>\n",
              "      <td>43.78</td>\n",
              "    </tr>\n",
              "    <tr>\n",
              "      <th>2</th>\n",
              "      <td>3</td>\n",
              "      <td>48.12</td>\n",
              "    </tr>\n",
              "    <tr>\n",
              "      <th>3</th>\n",
              "      <td>4</td>\n",
              "      <td>43.25</td>\n",
              "    </tr>\n",
              "    <tr>\n",
              "      <th>4</th>\n",
              "      <td>5</td>\n",
              "      <td>46.42</td>\n",
              "    </tr>\n",
              "  </tbody>\n",
              "</table>\n",
              "</div>"
            ],
            "text/plain": [
              "   Drink  Caffeine\n",
              "0      1     47.32\n",
              "1      2     43.78\n",
              "2      3     48.12\n",
              "3      4     43.25\n",
              "4      5     46.42"
            ]
          },
          "metadata": {
            "tags": []
          },
          "execution_count": 4
        }
      ]
    },
    {
      "cell_type": "markdown",
      "metadata": {
        "id": "wOQ-9E8uYcni",
        "colab_type": "text"
      },
      "source": [
        "###2) Calculate the mean, SD, SE caffeiene content and n for the sample.  Summarize your results in a sentence or two."
      ]
    },
    {
      "cell_type": "code",
      "metadata": {
        "id": "m1vuFGxVQo64",
        "colab_type": "code",
        "colab": {
          "base_uri": "https://localhost:8080/",
          "height": 85
        },
        "outputId": "c43be306-2412-438f-9226-f48216608111"
      },
      "source": [
        "mean = df['Caffeine'].mean()\n",
        "print('mean: ', mean)\n",
        "sd = df['Caffeine'].std()\n",
        "print('standard deviation: ', sd)\n",
        "n = df['Caffeine'].count()\n",
        "print(\"n: \", n)\n",
        "se = sd / n ** 0.5\n",
        "print(\"se: \", se)"
      ],
      "execution_count": 6,
      "outputs": [
        {
          "output_type": "stream",
          "text": [
            "mean:  37.9402\n",
            "standard deviatin:  5.243756828216712\n",
            "n:  50\n",
            "se:  0.7415792024250598\n"
          ],
          "name": "stdout"
        }
      ]
    },
    {
      "cell_type": "markdown",
      "metadata": {
        "id": "y2Rz-8O-YmF9",
        "colab_type": "text"
      },
      "source": [
        "###Summary\n",
        "The sample mean is higher than both the pepsi and coke serving size examles. There are greater than 30 samples so the t disribuition should look like a normal distribution. "
      ]
    },
    {
      "cell_type": "markdown",
      "metadata": {
        "colab_type": "text",
        "id": "RySL5E7GEHGf"
      },
      "source": [
        "###3) Find t* for a 95% confidence interval.  \n",
        "\n",
        "Use the starter code below and fill in the degrees of freedom."
      ]
    },
    {
      "cell_type": "code",
      "metadata": {
        "id": "ti9x37XSQ_yL",
        "colab_type": "code",
        "colab": {
          "base_uri": "https://localhost:8080/",
          "height": 34
        },
        "outputId": "bace4b49-b81a-47af-fafd-10acd33cadaa"
      },
      "source": [
        "from scipy.stats import t\n",
        "\n",
        "#Don't worry too much about where the 0.975 comes from.  It has to do\n",
        "#with wanting to determine the *middle* 95% of the t-distribution\n",
        "#We're going to learn\n",
        "#how to calculate a 95% CI this easy way in just a minute.\n",
        "\n",
        "#Recall that n = 223 for the body temp problem.\n",
        "t_star = t.ppf(0.975,df= (n-1))\n",
        "print('t_star =', t_star)"
      ],
      "execution_count": 7,
      "outputs": [
        {
          "output_type": "stream",
          "text": [
            "t_star = 2.009575234489209\n"
          ],
          "name": "stdout"
        }
      ]
    },
    {
      "cell_type": "markdown",
      "metadata": {
        "colab_type": "text",
        "id": "AddooPk1JBvQ"
      },
      "source": [
        "###4) Calculate the margin of error for a 95% confidence interval for the mean caffeine content in a 12-oz Coke.\n",
        "\n"
      ]
    },
    {
      "cell_type": "code",
      "metadata": {
        "id": "IjjYtXodJW-b",
        "colab_type": "code",
        "colab": {
          "base_uri": "https://localhost:8080/",
          "height": 34
        },
        "outputId": "3a7ec8ef-31a6-409d-e71f-f73d541ae781"
      },
      "source": [
        "margin_of_error = t_star*se\n",
        "margin_of_error"
      ],
      "execution_count": 10,
      "outputs": [
        {
          "output_type": "execute_result",
          "data": {
            "text/plain": [
              "1.49025919960566"
            ]
          },
          "metadata": {
            "tags": []
          },
          "execution_count": 10
        }
      ]
    },
    {
      "cell_type": "markdown",
      "metadata": {
        "id": "AtGASqgxYp5t",
        "colab_type": "text"
      },
      "source": [
        "###5) Calculate a 95% CI for the mean caffeine content in a 12-oz fountain Coke with the CI formula using the summary statistics and t* that you calculated above."
      ]
    },
    {
      "cell_type": "code",
      "metadata": {
        "id": "JPUE0osGEw0M",
        "colab_type": "code",
        "colab": {
          "base_uri": "https://localhost:8080/",
          "height": 34
        },
        "outputId": "f3dc3b6d-7c4a-49bf-b26e-846b076168c8"
      },
      "source": [
        "lower_bound = mean - margin_of_error\n",
        "upper_bound = mean + margin_of_error\n",
        "print(lower_bound, upper_bound)"
      ],
      "execution_count": 14,
      "outputs": [
        {
          "output_type": "stream",
          "text": [
            "36.44994080039434 39.43045919960566\n"
          ],
          "name": "stdout"
        }
      ]
    },
    {
      "cell_type": "markdown",
      "metadata": {
        "colab_type": "text",
        "id": "gAKJlaMyEzVz"
      },
      "source": [
        "###6) Calculate a 95% CI for the mean caffeiene content in a 12-oz fountain Coke using the t-interval function in Python."
      ]
    },
    {
      "cell_type": "code",
      "metadata": {
        "colab_type": "code",
        "id": "GSo4uKWVFKwQ",
        "colab": {
          "base_uri": "https://localhost:8080/",
          "height": 34
        },
        "outputId": "8d568326-a6f6-43ce-cb44-3e2d25d5ac86"
      },
      "source": [
        "t.interval(alpha= 0.95, df= (n-1), loc= mean, scale= se)"
      ],
      "execution_count": 12,
      "outputs": [
        {
          "output_type": "execute_result",
          "data": {
            "text/plain": [
              "(36.44994080039434, 39.43045919960566)"
            ]
          },
          "metadata": {
            "tags": []
          },
          "execution_count": 12
        }
      ]
    },
    {
      "cell_type": "markdown",
      "metadata": {
        "id": "8oD8lp84YyvU",
        "colab_type": "text"
      },
      "source": [
        "###7) Compare the two confidence intervals you calculated.  Do they match?  Should they?"
      ]
    },
    {
      "cell_type": "markdown",
      "metadata": {
        "id": "mBMX1NAIFT88",
        "colab_type": "text"
      },
      "source": [
        "The answers match as they should since the t-interval function in python uses the confidence interval formula and summary statistics to calculate the range."
      ]
    },
    {
      "cell_type": "markdown",
      "metadata": {
        "id": "-2ulIAGmYudp",
        "colab_type": "text"
      },
      "source": [
        "###8) Interpret the meaning of the 95% confidence interval for the mean caffeiene content in a 12-oz fountain Coke. in a sentence or two."
      ]
    },
    {
      "cell_type": "markdown",
      "metadata": {
        "id": "anXRHxrNYyE5",
        "colab_type": "text"
      },
      "source": [
        "We are 95% confident that the population mean for caffeine in a 12 oz fountain coke is between 36.4 and 39.4 grams."
      ]
    },
    {
      "cell_type": "markdown",
      "metadata": {
        "id": "SpqgKQfTYvF0",
        "colab_type": "text"
      },
      "source": [
        "###9) Using the t-interval Python function, calculate a 90% confidence interval for the mean caffeine content in a 12-oz Coke.  Is this estimate more accurate or more precise (pick one) than the 95% confidence interval?\n",
        "\n"
      ]
    },
    {
      "cell_type": "code",
      "metadata": {
        "id": "r1y1LE_dPAi6",
        "colab_type": "code",
        "colab": {
          "base_uri": "https://localhost:8080/",
          "height": 34
        },
        "outputId": "4de3c538-4d8a-4d34-ec89-a4d722081a35"
      },
      "source": [
        "t.interval(alpha= 0.90, df= (n-1), loc= mean, scale= se)"
      ],
      "execution_count": 15,
      "outputs": [
        {
          "output_type": "execute_result",
          "data": {
            "text/plain": [
              "(36.696904726749196, 39.1834952732508)"
            ]
          },
          "metadata": {
            "tags": []
          },
          "execution_count": 15
        }
      ]
    },
    {
      "cell_type": "markdown",
      "metadata": {
        "colab_type": "text",
        "id": "7WIQtB0PGJP4"
      },
      "source": [
        "We are 90% confident that the population mean for caffeine in a 12 oz fountain coke is between 36.69 and 39.18 grams."
      ]
    },
    {
      "cell_type": "markdown",
      "metadata": {
        "colab_type": "text",
        "id": "hQsmY8RnHKJf"
      },
      "source": [
        "###10) Using the t-interval Python function, calculate a 99% confidence interval for the mean caffeine content in a 12-oz Coke.  Is this estimate more accurate or more precise (pick one) than the 95% confidence interval?\n",
        "\n"
      ]
    },
    {
      "cell_type": "code",
      "metadata": {
        "id": "YrKq5pXYPNnK",
        "colab_type": "code",
        "colab": {
          "base_uri": "https://localhost:8080/",
          "height": 34
        },
        "outputId": "84c65c73-8212-4382-aa6d-333ba1688178"
      },
      "source": [
        "t.interval(alpha= 0.99, df= (n-1), loc= mean, scale= se)\n"
      ],
      "execution_count": 16,
      "outputs": [
        {
          "output_type": "execute_result",
          "data": {
            "text/plain": [
              "(35.95280335285685, 39.92759664714315)"
            ]
          },
          "metadata": {
            "tags": []
          },
          "execution_count": 16
        }
      ]
    },
    {
      "cell_type": "markdown",
      "metadata": {
        "id": "WN2-2czOZmPh",
        "colab_type": "text"
      },
      "source": [
        "We are 99% confident that the population mean for caffeine in a 12 oz fountain coke is between 35.9 and 39.9 grams."
      ]
    },
    {
      "cell_type": "markdown",
      "metadata": {
        "id": "9tIHBlM_SyGR",
        "colab_type": "text"
      },
      "source": [
        "## Stretch goals:\n",
        "\n",
        "###1) The correspondence between confidence intervals and hypothesis tests.\n",
        "\n",
        "Read [this](https://https://blog.minitab.com/blog/adventures-in-statistics-2/understanding-hypothesis-tests-confidence-intervals-and-confidence-levels#:~:text=If%20a%20hypothesis%20test%20produces,corresponding%20confidence%20level%20is%2095%25.&text=If%20the%20confidence%20interval%20does,the%20results%20are%20statistically%20significant.) article about the correspondence between confidence intervals and hypothesis tests.  Feel free to read the whole article, but the relevant part can be found under the heading Why P Values and Confidence Intervals Always Agree About Statistical Significance.\n",
        "\n",
        "Imagine you work for quality control at Coke and are tasked with making sure that the caffeiene content in the fountain beverages served in restaurants is the same as in a 12-oz can of Coke (34mg).  If you believe that the mean caffeiene content in fountain coke is not 34mg, you must re-train the franchise managers to make sure the Coke served has the correct caffeiene level.\n",
        "\n",
        "Based on the confidence interval you calculated in the assignment, do you believe that the mean caffeiene content is statistically significantly different from 34 mg in a 12-oz serving?\n"
      ]
    },
    {
      "cell_type": "markdown",
      "metadata": {
        "id": "4Aa3df-_LgnT",
        "colab_type": "text"
      },
      "source": [
        "Yes, because the lower bound in the 99% confidence interval (35.9) is well above the what the population mean should be of 34."
      ]
    },
    {
      "cell_type": "markdown",
      "metadata": {
        "id": "Ne4k2kd3LhfV",
        "colab_type": "text"
      },
      "source": [
        "###2) If we increased the sample size from 50 to 100 but the sample mean and SD remained the same, describe **two** ways the margin of error would change.  Would the margin of error become smaller or larger?"
      ]
    },
    {
      "cell_type": "markdown",
      "metadata": {
        "id": "6lVcoTU6L5Pg",
        "colab_type": "text"
      },
      "source": [
        "Answer to what would change here.\n",
        "The margin of error would become smaller as the sample size increased.\n"
      ]
    },
    {
      "cell_type": "code",
      "metadata": {
        "id": "PQkk3nu4L4vu",
        "colab_type": "code",
        "colab": {
          "base_uri": "https://localhost:8080/",
          "height": 51
        },
        "outputId": "f29d9ba7-9fbc-40a7-b879-8d91557a034a"
      },
      "source": [
        "n2= 100\n",
        "t_star2 = t.ppf(0.975,df= (n2-1))\n",
        "se2 = sd / n2 ** 0.5\n",
        "margin_of_error2 = t_star2*se2\n",
        "print(\"margin of error for 100 samples: \",margin_of_error2)\n",
        "print(\"margin of error for 50 samples: \", margin_of_error)"
      ],
      "execution_count": 21,
      "outputs": [
        {
          "output_type": "stream",
          "text": [
            "margin of error for 100 samples:  1.0404751188137005\n",
            "margin of error for 50 samples:  1.49025919960566\n"
          ],
          "name": "stdout"
        }
      ]
    }
  ]
}