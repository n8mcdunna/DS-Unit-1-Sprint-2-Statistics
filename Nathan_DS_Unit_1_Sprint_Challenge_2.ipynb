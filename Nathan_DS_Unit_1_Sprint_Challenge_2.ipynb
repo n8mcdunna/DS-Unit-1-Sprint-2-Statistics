{
  "nbformat": 4,
  "nbformat_minor": 0,
  "metadata": {
    "colab": {
      "name": "Nathan_DS_Unit_1_Sprint_Challenge_2.ipynb",
      "provenance": [],
      "collapsed_sections": [],
      "toc_visible": true,
      "include_colab_link": true
    },
    "kernelspec": {
      "name": "python3",
      "display_name": "Python 3"
    }
  },
  "cells": [
    {
      "cell_type": "markdown",
      "metadata": {
        "id": "view-in-github",
        "colab_type": "text"
      },
      "source": [
        "<a href=\"https://colab.research.google.com/github/n8mcdunna/DS-Unit-1-Sprint-2-Statistics/blob/master/Nathan_DS_Unit_1_Sprint_Challenge_2.ipynb\" target=\"_parent\"><img src=\"https://colab.research.google.com/assets/colab-badge.svg\" alt=\"Open In Colab\"/></a>"
      ]
    },
    {
      "cell_type": "markdown",
      "metadata": {
        "id": "NooAiTdnafkz",
        "colab_type": "text"
      },
      "source": [
        "# Data Science Unit 1 Sprint Challenge 2\n",
        "\n",
        "## Exploring Data, Testing Hypotheses\n",
        "\n",
        "*Updated July 17, 2020*\n",
        "\n",
        "In this sprint challenge you will look at a dataset of echocardiogram data and other health measures of individuals who have suffered heart attacks using the following dataset:\n",
        "\n",
        "<https://archive.ics.uci.edu/ml/datasets/Echocardiogram>\n",
        "\n",
        "Attribute Information:\n",
        "\n",
        "1. **survival** -- the number of months patient survived (has survived, if patient is still alive). Because all the patients had their heart attacks at different times, it is possible that some patients have survived less than one year but they are still alive. Check the second variable to confirm this. Such patients cannot be used for the prediction task mentioned above.\n",
        "2. **still-alive** -- a binary variable. 0=dead at end of survival period, 1 means still alive\n",
        "3. **age-at-heart-attack** -- age in years when heart attack occurred\n",
        "4. **pericardial-effusion** -- binary. Pericardial effusion is fluid around the heart. 0=no fluid, 1=fluid\n",
        "5. **fractional-shortening** -- a measure of contracility around the heart lower numbers are increasingly abnormal\n",
        "6. **epss** -- E-point septal separation, another measure of contractility. Larger numbers are increasingly abnormal.\n",
        "7. **lvdd** -- left ventricular end-diastolic dimension. This is a measure of the size of the heart at end-diastole. Large hearts tend to be sick hearts.\n",
        "8. **wall-motion-score** -- a measure of how the segments of the left ventricle are moving\n",
        "9. **wall-motion-index** -- equals wall-motion-score divided by number of segments seen. Usually 12-13 segments are seen in an echocardiogram. Use this variable INSTEAD of the wall motion score.\n",
        "10. **mult** -- a derivate var which can be ignored\n",
        "11. **name** -- the name of the patient (I have replaced them with \"name\")\n",
        "12. **group** -- meaningless, ignore it\n",
        "13. **alive-at-1** -- Boolean-valued. Derived from the first two attributes. 0 means patient was either dead after 1 year or had been followed for less than 1 year. 1 means patient was alive at 1 year.\n",
        "\n",
        "Sprint challenges are evaluated based on satisfactory completion of each part. It is suggested you work through it in order, getting each aspect reasonably working, before trying to deeply explore, iterate, or refine any given step. Once you get to the end, if you want to go back and improve things, go for it!"
      ]
    },
    {
      "cell_type": "markdown",
      "metadata": {
        "id": "5wch6ksCbJtZ",
        "colab_type": "text"
      },
      "source": [
        "## Part 1 - Load and validate the data\n",
        "\n",
        "- Load the data as a `pandas` data frame.\n",
        "\n",
        "- There is an anomaly with row 50 of the data (index position 49). It does not have enough columns. Please include `skiprows=[49]` in your `read_csv()` function call. You must indicate specific rows to be skipped as a list or else `read_csv()` will skip all rows up to and including the row to be skipped. \n",
        "\n",
        "- Your dataset should initially have 131 rows and 13 columns\n",
        "\n",
        "- Use the attribute information listed above to name your column headers.\n",
        "\n",
        "- UCI says there should be missing data - check, and if necessary change the data so pandas recognizes the missing value indicators as NaN.\n",
        "\n",
        "- The `name` column has been altered to only include the string 'name' to protect the privacy of patients. The `group` column is also meaningless. Please drop both of these columns, you will then have 11 columns usable data.\n"
      ]
    },
    {
      "cell_type": "code",
      "metadata": {
        "id": "odW5Q-b_6jTJ",
        "colab_type": "code",
        "colab": {}
      },
      "source": [
        "import pandas as pd\n",
        "import numpy as np\n",
        "import matplotlib.pyplot as plt"
      ],
      "execution_count": 13,
      "outputs": []
    },
    {
      "cell_type": "code",
      "metadata": {
        "id": "2V-2F9dnvJKW",
        "colab_type": "code",
        "colab": {
          "base_uri": "https://localhost:8080/",
          "height": 204
        },
        "outputId": "055369e6-48d8-4b37-e122-e496705e594b"
      },
      "source": [
        "!wget https://archive.ics.uci.edu/ml/datasets/Echocardiogram"
      ],
      "execution_count": 14,
      "outputs": [
        {
          "output_type": "stream",
          "text": [
            "--2020-09-11 15:16:05--  https://archive.ics.uci.edu/ml/datasets/Echocardiogram\n",
            "Resolving archive.ics.uci.edu (archive.ics.uci.edu)... 128.195.10.252\n",
            "Connecting to archive.ics.uci.edu (archive.ics.uci.edu)|128.195.10.252|:443... connected.\n",
            "HTTP request sent, awaiting response... 200 OK\n",
            "Length: unspecified [text/html]\n",
            "Saving to: ‘Echocardiogram’\n",
            "\n",
            "Echocardiogram          [ <=>                ]  13.22K  --.-KB/s    in 0.1s    \n",
            "\n",
            "2020-09-11 15:16:06 (89.5 KB/s) - ‘Echocardiogram’ saved [13542]\n",
            "\n"
          ],
          "name": "stdout"
        }
      ]
    },
    {
      "cell_type": "code",
      "metadata": {
        "id": "ZWfZv33tuvkA",
        "colab_type": "code",
        "colab": {
          "base_uri": "https://localhost:8080/",
          "height": 221
        },
        "outputId": "c557c5a8-7718-4507-a238-051e42bb081f"
      },
      "source": [
        "df = pd.read_csv('/content/echocardiogram.data', skiprows= [49])\n",
        "print(df.shape)\n",
        "df.head()"
      ],
      "execution_count": 70,
      "outputs": [
        {
          "output_type": "stream",
          "text": [
            "(130, 13)\n"
          ],
          "name": "stdout"
        },
        {
          "output_type": "execute_result",
          "data": {
            "text/html": [
              "<div>\n",
              "<style scoped>\n",
              "    .dataframe tbody tr th:only-of-type {\n",
              "        vertical-align: middle;\n",
              "    }\n",
              "\n",
              "    .dataframe tbody tr th {\n",
              "        vertical-align: top;\n",
              "    }\n",
              "\n",
              "    .dataframe thead th {\n",
              "        text-align: right;\n",
              "    }\n",
              "</style>\n",
              "<table border=\"1\" class=\"dataframe\">\n",
              "  <thead>\n",
              "    <tr style=\"text-align: right;\">\n",
              "      <th></th>\n",
              "      <th>11</th>\n",
              "      <th>0</th>\n",
              "      <th>71</th>\n",
              "      <th>0.1</th>\n",
              "      <th>0.260</th>\n",
              "      <th>9</th>\n",
              "      <th>4.600</th>\n",
              "      <th>14</th>\n",
              "      <th>1</th>\n",
              "      <th>1.1</th>\n",
              "      <th>name</th>\n",
              "      <th>1.2</th>\n",
              "      <th>0.2</th>\n",
              "    </tr>\n",
              "  </thead>\n",
              "  <tbody>\n",
              "    <tr>\n",
              "      <th>0</th>\n",
              "      <td>19</td>\n",
              "      <td>0</td>\n",
              "      <td>72</td>\n",
              "      <td>0</td>\n",
              "      <td>0.380</td>\n",
              "      <td>6</td>\n",
              "      <td>4.100</td>\n",
              "      <td>14</td>\n",
              "      <td>1.700</td>\n",
              "      <td>0.588</td>\n",
              "      <td>name</td>\n",
              "      <td>1</td>\n",
              "      <td>0</td>\n",
              "    </tr>\n",
              "    <tr>\n",
              "      <th>1</th>\n",
              "      <td>16</td>\n",
              "      <td>0</td>\n",
              "      <td>55</td>\n",
              "      <td>0</td>\n",
              "      <td>0.260</td>\n",
              "      <td>4</td>\n",
              "      <td>3.420</td>\n",
              "      <td>14</td>\n",
              "      <td>1</td>\n",
              "      <td>1</td>\n",
              "      <td>name</td>\n",
              "      <td>1</td>\n",
              "      <td>0</td>\n",
              "    </tr>\n",
              "    <tr>\n",
              "      <th>2</th>\n",
              "      <td>57</td>\n",
              "      <td>0</td>\n",
              "      <td>60</td>\n",
              "      <td>0</td>\n",
              "      <td>0.253</td>\n",
              "      <td>12.062</td>\n",
              "      <td>4.603</td>\n",
              "      <td>16</td>\n",
              "      <td>1.450</td>\n",
              "      <td>0.788</td>\n",
              "      <td>name</td>\n",
              "      <td>1</td>\n",
              "      <td>0</td>\n",
              "    </tr>\n",
              "    <tr>\n",
              "      <th>3</th>\n",
              "      <td>19</td>\n",
              "      <td>1</td>\n",
              "      <td>57</td>\n",
              "      <td>0</td>\n",
              "      <td>0.160</td>\n",
              "      <td>22</td>\n",
              "      <td>5.750</td>\n",
              "      <td>18</td>\n",
              "      <td>2.250</td>\n",
              "      <td>0.571</td>\n",
              "      <td>name</td>\n",
              "      <td>1</td>\n",
              "      <td>0</td>\n",
              "    </tr>\n",
              "    <tr>\n",
              "      <th>4</th>\n",
              "      <td>26</td>\n",
              "      <td>0</td>\n",
              "      <td>68</td>\n",
              "      <td>0</td>\n",
              "      <td>0.260</td>\n",
              "      <td>5</td>\n",
              "      <td>4.310</td>\n",
              "      <td>12</td>\n",
              "      <td>1</td>\n",
              "      <td>0.857</td>\n",
              "      <td>name</td>\n",
              "      <td>1</td>\n",
              "      <td>0</td>\n",
              "    </tr>\n",
              "  </tbody>\n",
              "</table>\n",
              "</div>"
            ],
            "text/plain": [
              "   11  0  71  0.1  0.260       9  4.600  14      1    1.1  name 1.2 0.2\n",
              "0  19  0  72    0  0.380       6  4.100  14  1.700  0.588  name   1   0\n",
              "1  16  0  55    0  0.260       4  3.420  14      1      1  name   1   0\n",
              "2  57  0  60    0  0.253  12.062  4.603  16  1.450  0.788  name   1   0\n",
              "3  19  1  57    0  0.160      22  5.750  18  2.250  0.571  name   1   0\n",
              "4  26  0  68    0  0.260       5  4.310  12      1  0.857  name   1   0"
            ]
          },
          "metadata": {
            "tags": []
          },
          "execution_count": 70
        }
      ]
    },
    {
      "cell_type": "code",
      "metadata": {
        "id": "LkwBVT3at4aV",
        "colab_type": "code",
        "colab": {
          "base_uri": "https://localhost:8080/",
          "height": 34
        },
        "outputId": "c171e1a9-f27d-4fd5-a867-0b49ca4f3395"
      },
      "source": [
        "# Creating the column names\n",
        "column_names = ['survival', 'still_alive', 'age_at_heart_attack', 'pericardial_effusion', 'fract_short', 'epss', 'lvdd', 'wm_score', 'wm_index', 'mult', 'name', 'group', 'alive_at_1']\n",
        "len(column_names)"
      ],
      "execution_count": 71,
      "outputs": [
        {
          "output_type": "execute_result",
          "data": {
            "text/plain": [
              "13"
            ]
          },
          "metadata": {
            "tags": []
          },
          "execution_count": 71
        }
      ]
    },
    {
      "cell_type": "code",
      "metadata": {
        "id": "1M1zf6IHw7Oy",
        "colab_type": "code",
        "colab": {
          "base_uri": "https://localhost:8080/",
          "height": 224
        },
        "outputId": "a1c952a4-657e-4017-ab69-fa4f0f2bba40"
      },
      "source": [
        "df.columns = column_names\n",
        "df.head()"
      ],
      "execution_count": 72,
      "outputs": [
        {
          "output_type": "execute_result",
          "data": {
            "text/html": [
              "<div>\n",
              "<style scoped>\n",
              "    .dataframe tbody tr th:only-of-type {\n",
              "        vertical-align: middle;\n",
              "    }\n",
              "\n",
              "    .dataframe tbody tr th {\n",
              "        vertical-align: top;\n",
              "    }\n",
              "\n",
              "    .dataframe thead th {\n",
              "        text-align: right;\n",
              "    }\n",
              "</style>\n",
              "<table border=\"1\" class=\"dataframe\">\n",
              "  <thead>\n",
              "    <tr style=\"text-align: right;\">\n",
              "      <th></th>\n",
              "      <th>survival</th>\n",
              "      <th>still_alive</th>\n",
              "      <th>age_at_heart_attack</th>\n",
              "      <th>pericardial_effusion</th>\n",
              "      <th>fract_short</th>\n",
              "      <th>epss</th>\n",
              "      <th>lvdd</th>\n",
              "      <th>wm_score</th>\n",
              "      <th>wm_index</th>\n",
              "      <th>mult</th>\n",
              "      <th>name</th>\n",
              "      <th>group</th>\n",
              "      <th>alive_at_1</th>\n",
              "    </tr>\n",
              "  </thead>\n",
              "  <tbody>\n",
              "    <tr>\n",
              "      <th>0</th>\n",
              "      <td>19</td>\n",
              "      <td>0</td>\n",
              "      <td>72</td>\n",
              "      <td>0</td>\n",
              "      <td>0.380</td>\n",
              "      <td>6</td>\n",
              "      <td>4.100</td>\n",
              "      <td>14</td>\n",
              "      <td>1.700</td>\n",
              "      <td>0.588</td>\n",
              "      <td>name</td>\n",
              "      <td>1</td>\n",
              "      <td>0</td>\n",
              "    </tr>\n",
              "    <tr>\n",
              "      <th>1</th>\n",
              "      <td>16</td>\n",
              "      <td>0</td>\n",
              "      <td>55</td>\n",
              "      <td>0</td>\n",
              "      <td>0.260</td>\n",
              "      <td>4</td>\n",
              "      <td>3.420</td>\n",
              "      <td>14</td>\n",
              "      <td>1</td>\n",
              "      <td>1</td>\n",
              "      <td>name</td>\n",
              "      <td>1</td>\n",
              "      <td>0</td>\n",
              "    </tr>\n",
              "    <tr>\n",
              "      <th>2</th>\n",
              "      <td>57</td>\n",
              "      <td>0</td>\n",
              "      <td>60</td>\n",
              "      <td>0</td>\n",
              "      <td>0.253</td>\n",
              "      <td>12.062</td>\n",
              "      <td>4.603</td>\n",
              "      <td>16</td>\n",
              "      <td>1.450</td>\n",
              "      <td>0.788</td>\n",
              "      <td>name</td>\n",
              "      <td>1</td>\n",
              "      <td>0</td>\n",
              "    </tr>\n",
              "    <tr>\n",
              "      <th>3</th>\n",
              "      <td>19</td>\n",
              "      <td>1</td>\n",
              "      <td>57</td>\n",
              "      <td>0</td>\n",
              "      <td>0.160</td>\n",
              "      <td>22</td>\n",
              "      <td>5.750</td>\n",
              "      <td>18</td>\n",
              "      <td>2.250</td>\n",
              "      <td>0.571</td>\n",
              "      <td>name</td>\n",
              "      <td>1</td>\n",
              "      <td>0</td>\n",
              "    </tr>\n",
              "    <tr>\n",
              "      <th>4</th>\n",
              "      <td>26</td>\n",
              "      <td>0</td>\n",
              "      <td>68</td>\n",
              "      <td>0</td>\n",
              "      <td>0.260</td>\n",
              "      <td>5</td>\n",
              "      <td>4.310</td>\n",
              "      <td>12</td>\n",
              "      <td>1</td>\n",
              "      <td>0.857</td>\n",
              "      <td>name</td>\n",
              "      <td>1</td>\n",
              "      <td>0</td>\n",
              "    </tr>\n",
              "  </tbody>\n",
              "</table>\n",
              "</div>"
            ],
            "text/plain": [
              "  survival  still_alive age_at_heart_attack  ...  name group alive_at_1\n",
              "0       19            0                  72  ...  name     1          0\n",
              "1       16            0                  55  ...  name     1          0\n",
              "2       57            0                  60  ...  name     1          0\n",
              "3       19            1                  57  ...  name     1          0\n",
              "4       26            0                  68  ...  name     1          0\n",
              "\n",
              "[5 rows x 13 columns]"
            ]
          },
          "metadata": {
            "tags": []
          },
          "execution_count": 72
        }
      ]
    },
    {
      "cell_type": "code",
      "metadata": {
        "id": "Ibl3QFJexMPS",
        "colab_type": "code",
        "colab": {
          "base_uri": "https://localhost:8080/",
          "height": 241
        },
        "outputId": "b8ee1403-5525-4022-f52b-69fb2f077b1b"
      },
      "source": [
        "# Removing unnecessary columns\n",
        "df = df.drop(labels= ['name', 'group'], axis= 1)\n",
        "print(df.shape)\n",
        "df.head()"
      ],
      "execution_count": 73,
      "outputs": [
        {
          "output_type": "stream",
          "text": [
            "(130, 11)\n"
          ],
          "name": "stdout"
        },
        {
          "output_type": "execute_result",
          "data": {
            "text/html": [
              "<div>\n",
              "<style scoped>\n",
              "    .dataframe tbody tr th:only-of-type {\n",
              "        vertical-align: middle;\n",
              "    }\n",
              "\n",
              "    .dataframe tbody tr th {\n",
              "        vertical-align: top;\n",
              "    }\n",
              "\n",
              "    .dataframe thead th {\n",
              "        text-align: right;\n",
              "    }\n",
              "</style>\n",
              "<table border=\"1\" class=\"dataframe\">\n",
              "  <thead>\n",
              "    <tr style=\"text-align: right;\">\n",
              "      <th></th>\n",
              "      <th>survival</th>\n",
              "      <th>still_alive</th>\n",
              "      <th>age_at_heart_attack</th>\n",
              "      <th>pericardial_effusion</th>\n",
              "      <th>fract_short</th>\n",
              "      <th>epss</th>\n",
              "      <th>lvdd</th>\n",
              "      <th>wm_score</th>\n",
              "      <th>wm_index</th>\n",
              "      <th>mult</th>\n",
              "      <th>alive_at_1</th>\n",
              "    </tr>\n",
              "  </thead>\n",
              "  <tbody>\n",
              "    <tr>\n",
              "      <th>0</th>\n",
              "      <td>19</td>\n",
              "      <td>0</td>\n",
              "      <td>72</td>\n",
              "      <td>0</td>\n",
              "      <td>0.380</td>\n",
              "      <td>6</td>\n",
              "      <td>4.100</td>\n",
              "      <td>14</td>\n",
              "      <td>1.700</td>\n",
              "      <td>0.588</td>\n",
              "      <td>0</td>\n",
              "    </tr>\n",
              "    <tr>\n",
              "      <th>1</th>\n",
              "      <td>16</td>\n",
              "      <td>0</td>\n",
              "      <td>55</td>\n",
              "      <td>0</td>\n",
              "      <td>0.260</td>\n",
              "      <td>4</td>\n",
              "      <td>3.420</td>\n",
              "      <td>14</td>\n",
              "      <td>1</td>\n",
              "      <td>1</td>\n",
              "      <td>0</td>\n",
              "    </tr>\n",
              "    <tr>\n",
              "      <th>2</th>\n",
              "      <td>57</td>\n",
              "      <td>0</td>\n",
              "      <td>60</td>\n",
              "      <td>0</td>\n",
              "      <td>0.253</td>\n",
              "      <td>12.062</td>\n",
              "      <td>4.603</td>\n",
              "      <td>16</td>\n",
              "      <td>1.450</td>\n",
              "      <td>0.788</td>\n",
              "      <td>0</td>\n",
              "    </tr>\n",
              "    <tr>\n",
              "      <th>3</th>\n",
              "      <td>19</td>\n",
              "      <td>1</td>\n",
              "      <td>57</td>\n",
              "      <td>0</td>\n",
              "      <td>0.160</td>\n",
              "      <td>22</td>\n",
              "      <td>5.750</td>\n",
              "      <td>18</td>\n",
              "      <td>2.250</td>\n",
              "      <td>0.571</td>\n",
              "      <td>0</td>\n",
              "    </tr>\n",
              "    <tr>\n",
              "      <th>4</th>\n",
              "      <td>26</td>\n",
              "      <td>0</td>\n",
              "      <td>68</td>\n",
              "      <td>0</td>\n",
              "      <td>0.260</td>\n",
              "      <td>5</td>\n",
              "      <td>4.310</td>\n",
              "      <td>12</td>\n",
              "      <td>1</td>\n",
              "      <td>0.857</td>\n",
              "      <td>0</td>\n",
              "    </tr>\n",
              "  </tbody>\n",
              "</table>\n",
              "</div>"
            ],
            "text/plain": [
              "  survival  still_alive age_at_heart_attack  ...  wm_index   mult alive_at_1\n",
              "0       19            0                  72  ...     1.700  0.588          0\n",
              "1       16            0                  55  ...         1      1          0\n",
              "2       57            0                  60  ...     1.450  0.788          0\n",
              "3       19            1                  57  ...     2.250  0.571          0\n",
              "4       26            0                  68  ...         1  0.857          0\n",
              "\n",
              "[5 rows x 11 columns]"
            ]
          },
          "metadata": {
            "tags": []
          },
          "execution_count": 73
        }
      ]
    },
    {
      "cell_type": "code",
      "metadata": {
        "id": "qLlnbNNuxxje",
        "colab_type": "code",
        "colab": {
          "base_uri": "https://localhost:8080/",
          "height": 221
        },
        "outputId": "f2b7b7cc-ec2a-4393-e99c-ba9aeac32b59"
      },
      "source": [
        "# Check for missing values(?) and replace with NaN\n",
        "df = df.replace('?', np.nan)\n",
        "df.isnull().sum()"
      ],
      "execution_count": 74,
      "outputs": [
        {
          "output_type": "execute_result",
          "data": {
            "text/plain": [
              "survival                 1\n",
              "still_alive              0\n",
              "age_at_heart_attack      5\n",
              "pericardial_effusion     0\n",
              "fract_short              7\n",
              "epss                    14\n",
              "lvdd                    10\n",
              "wm_score                 3\n",
              "wm_index                 1\n",
              "mult                     3\n",
              "alive_at_1              57\n",
              "dtype: int64"
            ]
          },
          "metadata": {
            "tags": []
          },
          "execution_count": 74
        }
      ]
    },
    {
      "cell_type": "code",
      "metadata": {
        "id": "I_HJgfluyWXv",
        "colab_type": "code",
        "colab": {
          "base_uri": "https://localhost:8080/",
          "height": 999
        },
        "outputId": "bf7dcc87-c365-46b6-cfe4-3dbf01cf9afa"
      },
      "source": [
        "df.head(30)"
      ],
      "execution_count": 75,
      "outputs": [
        {
          "output_type": "execute_result",
          "data": {
            "text/html": [
              "<div>\n",
              "<style scoped>\n",
              "    .dataframe tbody tr th:only-of-type {\n",
              "        vertical-align: middle;\n",
              "    }\n",
              "\n",
              "    .dataframe tbody tr th {\n",
              "        vertical-align: top;\n",
              "    }\n",
              "\n",
              "    .dataframe thead th {\n",
              "        text-align: right;\n",
              "    }\n",
              "</style>\n",
              "<table border=\"1\" class=\"dataframe\">\n",
              "  <thead>\n",
              "    <tr style=\"text-align: right;\">\n",
              "      <th></th>\n",
              "      <th>survival</th>\n",
              "      <th>still_alive</th>\n",
              "      <th>age_at_heart_attack</th>\n",
              "      <th>pericardial_effusion</th>\n",
              "      <th>fract_short</th>\n",
              "      <th>epss</th>\n",
              "      <th>lvdd</th>\n",
              "      <th>wm_score</th>\n",
              "      <th>wm_index</th>\n",
              "      <th>mult</th>\n",
              "      <th>alive_at_1</th>\n",
              "    </tr>\n",
              "  </thead>\n",
              "  <tbody>\n",
              "    <tr>\n",
              "      <th>0</th>\n",
              "      <td>19</td>\n",
              "      <td>0</td>\n",
              "      <td>72</td>\n",
              "      <td>0</td>\n",
              "      <td>0.380</td>\n",
              "      <td>6</td>\n",
              "      <td>4.100</td>\n",
              "      <td>14</td>\n",
              "      <td>1.700</td>\n",
              "      <td>0.588</td>\n",
              "      <td>0</td>\n",
              "    </tr>\n",
              "    <tr>\n",
              "      <th>1</th>\n",
              "      <td>16</td>\n",
              "      <td>0</td>\n",
              "      <td>55</td>\n",
              "      <td>0</td>\n",
              "      <td>0.260</td>\n",
              "      <td>4</td>\n",
              "      <td>3.420</td>\n",
              "      <td>14</td>\n",
              "      <td>1</td>\n",
              "      <td>1</td>\n",
              "      <td>0</td>\n",
              "    </tr>\n",
              "    <tr>\n",
              "      <th>2</th>\n",
              "      <td>57</td>\n",
              "      <td>0</td>\n",
              "      <td>60</td>\n",
              "      <td>0</td>\n",
              "      <td>0.253</td>\n",
              "      <td>12.062</td>\n",
              "      <td>4.603</td>\n",
              "      <td>16</td>\n",
              "      <td>1.450</td>\n",
              "      <td>0.788</td>\n",
              "      <td>0</td>\n",
              "    </tr>\n",
              "    <tr>\n",
              "      <th>3</th>\n",
              "      <td>19</td>\n",
              "      <td>1</td>\n",
              "      <td>57</td>\n",
              "      <td>0</td>\n",
              "      <td>0.160</td>\n",
              "      <td>22</td>\n",
              "      <td>5.750</td>\n",
              "      <td>18</td>\n",
              "      <td>2.250</td>\n",
              "      <td>0.571</td>\n",
              "      <td>0</td>\n",
              "    </tr>\n",
              "    <tr>\n",
              "      <th>4</th>\n",
              "      <td>26</td>\n",
              "      <td>0</td>\n",
              "      <td>68</td>\n",
              "      <td>0</td>\n",
              "      <td>0.260</td>\n",
              "      <td>5</td>\n",
              "      <td>4.310</td>\n",
              "      <td>12</td>\n",
              "      <td>1</td>\n",
              "      <td>0.857</td>\n",
              "      <td>0</td>\n",
              "    </tr>\n",
              "    <tr>\n",
              "      <th>5</th>\n",
              "      <td>13</td>\n",
              "      <td>0</td>\n",
              "      <td>62</td>\n",
              "      <td>0</td>\n",
              "      <td>0.230</td>\n",
              "      <td>31</td>\n",
              "      <td>5.430</td>\n",
              "      <td>22.5</td>\n",
              "      <td>1.875</td>\n",
              "      <td>0.857</td>\n",
              "      <td>0</td>\n",
              "    </tr>\n",
              "    <tr>\n",
              "      <th>6</th>\n",
              "      <td>50</td>\n",
              "      <td>0</td>\n",
              "      <td>60</td>\n",
              "      <td>0</td>\n",
              "      <td>0.330</td>\n",
              "      <td>8</td>\n",
              "      <td>5.250</td>\n",
              "      <td>14</td>\n",
              "      <td>1</td>\n",
              "      <td>1</td>\n",
              "      <td>0</td>\n",
              "    </tr>\n",
              "    <tr>\n",
              "      <th>7</th>\n",
              "      <td>19</td>\n",
              "      <td>0</td>\n",
              "      <td>46</td>\n",
              "      <td>0</td>\n",
              "      <td>0.340</td>\n",
              "      <td>0</td>\n",
              "      <td>5.090</td>\n",
              "      <td>16</td>\n",
              "      <td>1.140</td>\n",
              "      <td>1.003</td>\n",
              "      <td>0</td>\n",
              "    </tr>\n",
              "    <tr>\n",
              "      <th>8</th>\n",
              "      <td>25</td>\n",
              "      <td>0</td>\n",
              "      <td>54</td>\n",
              "      <td>0</td>\n",
              "      <td>0.140</td>\n",
              "      <td>13</td>\n",
              "      <td>4.490</td>\n",
              "      <td>15.5</td>\n",
              "      <td>1.190</td>\n",
              "      <td>0.930</td>\n",
              "      <td>0</td>\n",
              "    </tr>\n",
              "    <tr>\n",
              "      <th>9</th>\n",
              "      <td>10</td>\n",
              "      <td>1</td>\n",
              "      <td>77</td>\n",
              "      <td>0</td>\n",
              "      <td>0.130</td>\n",
              "      <td>16</td>\n",
              "      <td>4.230</td>\n",
              "      <td>18</td>\n",
              "      <td>1.800</td>\n",
              "      <td>0.714</td>\n",
              "      <td>1</td>\n",
              "    </tr>\n",
              "    <tr>\n",
              "      <th>10</th>\n",
              "      <td>52</td>\n",
              "      <td>0</td>\n",
              "      <td>62</td>\n",
              "      <td>1</td>\n",
              "      <td>0.450</td>\n",
              "      <td>9</td>\n",
              "      <td>3.600</td>\n",
              "      <td>16</td>\n",
              "      <td>1.140</td>\n",
              "      <td>1.003</td>\n",
              "      <td>0</td>\n",
              "    </tr>\n",
              "    <tr>\n",
              "      <th>11</th>\n",
              "      <td>52</td>\n",
              "      <td>0</td>\n",
              "      <td>73</td>\n",
              "      <td>0</td>\n",
              "      <td>0.330</td>\n",
              "      <td>6</td>\n",
              "      <td>4</td>\n",
              "      <td>14</td>\n",
              "      <td>1</td>\n",
              "      <td>1</td>\n",
              "      <td>0</td>\n",
              "    </tr>\n",
              "    <tr>\n",
              "      <th>12</th>\n",
              "      <td>44</td>\n",
              "      <td>0</td>\n",
              "      <td>60</td>\n",
              "      <td>0</td>\n",
              "      <td>0.150</td>\n",
              "      <td>10</td>\n",
              "      <td>3.730</td>\n",
              "      <td>14</td>\n",
              "      <td>1</td>\n",
              "      <td>1</td>\n",
              "      <td>0</td>\n",
              "    </tr>\n",
              "    <tr>\n",
              "      <th>13</th>\n",
              "      <td>0.5</td>\n",
              "      <td>1</td>\n",
              "      <td>62</td>\n",
              "      <td>0</td>\n",
              "      <td>0.120</td>\n",
              "      <td>23</td>\n",
              "      <td>5.800</td>\n",
              "      <td>11.67</td>\n",
              "      <td>2.330</td>\n",
              "      <td>0.358</td>\n",
              "      <td>1</td>\n",
              "    </tr>\n",
              "    <tr>\n",
              "      <th>14</th>\n",
              "      <td>24</td>\n",
              "      <td>0</td>\n",
              "      <td>55</td>\n",
              "      <td>1</td>\n",
              "      <td>0.250</td>\n",
              "      <td>12.063</td>\n",
              "      <td>4.290</td>\n",
              "      <td>14</td>\n",
              "      <td>1</td>\n",
              "      <td>1</td>\n",
              "      <td>0</td>\n",
              "    </tr>\n",
              "    <tr>\n",
              "      <th>15</th>\n",
              "      <td>0.5</td>\n",
              "      <td>1</td>\n",
              "      <td>69</td>\n",
              "      <td>1</td>\n",
              "      <td>0.260</td>\n",
              "      <td>11</td>\n",
              "      <td>4.650</td>\n",
              "      <td>18</td>\n",
              "      <td>1.640</td>\n",
              "      <td>0.784</td>\n",
              "      <td>1</td>\n",
              "    </tr>\n",
              "    <tr>\n",
              "      <th>16</th>\n",
              "      <td>0.5</td>\n",
              "      <td>1</td>\n",
              "      <td>62.529</td>\n",
              "      <td>1</td>\n",
              "      <td>0.070</td>\n",
              "      <td>20</td>\n",
              "      <td>5.200</td>\n",
              "      <td>24</td>\n",
              "      <td>2</td>\n",
              "      <td>0.857</td>\n",
              "      <td>1</td>\n",
              "    </tr>\n",
              "    <tr>\n",
              "      <th>17</th>\n",
              "      <td>22</td>\n",
              "      <td>1</td>\n",
              "      <td>66</td>\n",
              "      <td>0</td>\n",
              "      <td>0.090</td>\n",
              "      <td>17</td>\n",
              "      <td>5.819</td>\n",
              "      <td>8</td>\n",
              "      <td>1.333</td>\n",
              "      <td>0.429</td>\n",
              "      <td>0</td>\n",
              "    </tr>\n",
              "    <tr>\n",
              "      <th>18</th>\n",
              "      <td>1</td>\n",
              "      <td>1</td>\n",
              "      <td>66</td>\n",
              "      <td>1</td>\n",
              "      <td>0.220</td>\n",
              "      <td>15</td>\n",
              "      <td>5.400</td>\n",
              "      <td>27</td>\n",
              "      <td>2.250</td>\n",
              "      <td>0.857</td>\n",
              "      <td>1</td>\n",
              "    </tr>\n",
              "    <tr>\n",
              "      <th>19</th>\n",
              "      <td>0.75</td>\n",
              "      <td>1</td>\n",
              "      <td>69</td>\n",
              "      <td>0</td>\n",
              "      <td>0.150</td>\n",
              "      <td>12</td>\n",
              "      <td>5.390</td>\n",
              "      <td>19.5</td>\n",
              "      <td>1.625</td>\n",
              "      <td>0.857</td>\n",
              "      <td>1</td>\n",
              "    </tr>\n",
              "    <tr>\n",
              "      <th>20</th>\n",
              "      <td>0.75</td>\n",
              "      <td>1</td>\n",
              "      <td>85</td>\n",
              "      <td>1</td>\n",
              "      <td>0.180</td>\n",
              "      <td>19</td>\n",
              "      <td>5.460</td>\n",
              "      <td>13.83</td>\n",
              "      <td>1.380</td>\n",
              "      <td>0.710</td>\n",
              "      <td>1</td>\n",
              "    </tr>\n",
              "    <tr>\n",
              "      <th>21</th>\n",
              "      <td>0.5</td>\n",
              "      <td>1</td>\n",
              "      <td>73</td>\n",
              "      <td>0</td>\n",
              "      <td>0.230</td>\n",
              "      <td>12.733</td>\n",
              "      <td>6.060</td>\n",
              "      <td>7.5</td>\n",
              "      <td>1.500</td>\n",
              "      <td>0.360</td>\n",
              "      <td>1</td>\n",
              "    </tr>\n",
              "    <tr>\n",
              "      <th>22</th>\n",
              "      <td>5</td>\n",
              "      <td>1</td>\n",
              "      <td>71</td>\n",
              "      <td>0</td>\n",
              "      <td>0.170</td>\n",
              "      <td>0</td>\n",
              "      <td>4.650</td>\n",
              "      <td>8</td>\n",
              "      <td>1</td>\n",
              "      <td>0.570</td>\n",
              "      <td>1</td>\n",
              "    </tr>\n",
              "    <tr>\n",
              "      <th>23</th>\n",
              "      <td>48</td>\n",
              "      <td>0</td>\n",
              "      <td>64</td>\n",
              "      <td>0</td>\n",
              "      <td>0.190</td>\n",
              "      <td>5.9</td>\n",
              "      <td>3.480</td>\n",
              "      <td>10</td>\n",
              "      <td>1.110</td>\n",
              "      <td>0.640</td>\n",
              "      <td>NaN</td>\n",
              "    </tr>\n",
              "    <tr>\n",
              "      <th>24</th>\n",
              "      <td>29</td>\n",
              "      <td>0</td>\n",
              "      <td>54</td>\n",
              "      <td>0</td>\n",
              "      <td>0.300</td>\n",
              "      <td>7</td>\n",
              "      <td>3.850</td>\n",
              "      <td>10</td>\n",
              "      <td>1.667</td>\n",
              "      <td>0.430</td>\n",
              "      <td>NaN</td>\n",
              "    </tr>\n",
              "    <tr>\n",
              "      <th>25</th>\n",
              "      <td>29</td>\n",
              "      <td>0</td>\n",
              "      <td>35</td>\n",
              "      <td>0</td>\n",
              "      <td>0.300</td>\n",
              "      <td>5</td>\n",
              "      <td>4.170</td>\n",
              "      <td>14</td>\n",
              "      <td>1</td>\n",
              "      <td>1</td>\n",
              "      <td>NaN</td>\n",
              "    </tr>\n",
              "    <tr>\n",
              "      <th>26</th>\n",
              "      <td>29</td>\n",
              "      <td>0</td>\n",
              "      <td>55</td>\n",
              "      <td>0</td>\n",
              "      <td>NaN</td>\n",
              "      <td>7</td>\n",
              "      <td>NaN</td>\n",
              "      <td>2</td>\n",
              "      <td>1</td>\n",
              "      <td>2</td>\n",
              "      <td>NaN</td>\n",
              "    </tr>\n",
              "    <tr>\n",
              "      <th>27</th>\n",
              "      <td>0.25</td>\n",
              "      <td>1</td>\n",
              "      <td>75</td>\n",
              "      <td>0</td>\n",
              "      <td>NaN</td>\n",
              "      <td>NaN</td>\n",
              "      <td>NaN</td>\n",
              "      <td>NaN</td>\n",
              "      <td>1</td>\n",
              "      <td>NaN</td>\n",
              "      <td>NaN</td>\n",
              "    </tr>\n",
              "    <tr>\n",
              "      <th>28</th>\n",
              "      <td>36</td>\n",
              "      <td>0</td>\n",
              "      <td>55</td>\n",
              "      <td>1</td>\n",
              "      <td>0.210</td>\n",
              "      <td>4.2</td>\n",
              "      <td>4.160</td>\n",
              "      <td>14</td>\n",
              "      <td>1.560</td>\n",
              "      <td>0.640</td>\n",
              "      <td>0</td>\n",
              "    </tr>\n",
              "    <tr>\n",
              "      <th>29</th>\n",
              "      <td>1</td>\n",
              "      <td>1</td>\n",
              "      <td>65</td>\n",
              "      <td>0</td>\n",
              "      <td>0.150</td>\n",
              "      <td>NaN</td>\n",
              "      <td>5.050</td>\n",
              "      <td>10</td>\n",
              "      <td>1</td>\n",
              "      <td>0.710</td>\n",
              "      <td>NaN</td>\n",
              "    </tr>\n",
              "  </tbody>\n",
              "</table>\n",
              "</div>"
            ],
            "text/plain": [
              "   survival  still_alive age_at_heart_attack  ...  wm_index   mult alive_at_1\n",
              "0        19            0                  72  ...     1.700  0.588          0\n",
              "1        16            0                  55  ...         1      1          0\n",
              "2        57            0                  60  ...     1.450  0.788          0\n",
              "3        19            1                  57  ...     2.250  0.571          0\n",
              "4        26            0                  68  ...         1  0.857          0\n",
              "5        13            0                  62  ...     1.875  0.857          0\n",
              "6        50            0                  60  ...         1      1          0\n",
              "7        19            0                  46  ...     1.140  1.003          0\n",
              "8        25            0                  54  ...     1.190  0.930          0\n",
              "9        10            1                  77  ...     1.800  0.714          1\n",
              "10       52            0                  62  ...     1.140  1.003          0\n",
              "11       52            0                  73  ...         1      1          0\n",
              "12       44            0                  60  ...         1      1          0\n",
              "13      0.5            1                  62  ...     2.330  0.358          1\n",
              "14       24            0                  55  ...         1      1          0\n",
              "15      0.5            1                  69  ...     1.640  0.784          1\n",
              "16      0.5            1              62.529  ...         2  0.857          1\n",
              "17       22            1                  66  ...     1.333  0.429          0\n",
              "18        1            1                  66  ...     2.250  0.857          1\n",
              "19     0.75            1                  69  ...     1.625  0.857          1\n",
              "20     0.75            1                  85  ...     1.380  0.710          1\n",
              "21      0.5            1                  73  ...     1.500  0.360          1\n",
              "22        5            1                  71  ...         1  0.570          1\n",
              "23       48            0                  64  ...     1.110  0.640        NaN\n",
              "24       29            0                  54  ...     1.667  0.430        NaN\n",
              "25       29            0                  35  ...         1      1        NaN\n",
              "26       29            0                  55  ...         1      2        NaN\n",
              "27     0.25            1                  75  ...         1    NaN        NaN\n",
              "28       36            0                  55  ...     1.560  0.640          0\n",
              "29        1            1                  65  ...         1  0.710        NaN\n",
              "\n",
              "[30 rows x 11 columns]"
            ]
          },
          "metadata": {
            "tags": []
          },
          "execution_count": 75
        }
      ]
    },
    {
      "cell_type": "markdown",
      "metadata": {
        "id": "G7rLytbrO38L",
        "colab_type": "text"
      },
      "source": [
        "## Part 2 - Exploring data, Testing hypotheses\n",
        "\n",
        "### Explore the Data\n",
        "\n",
        "Explore the data: you can use whatever approach (tables, Pandas EDA functions, visualizations, etc.) to get an impression of the distributions and relationships of the variables. In general, your goal is to understand which variables are numeric and which are categorical -in order to identify columns that might be suitable for t-tests, chi^2 tests and the building of confidence intervals. \n",
        "\n",
        "When exploring the categorical data it may be helpful to create use crosstabs aka [contingency tables](https://en.wikipedia.org/wiki/Contingency_table) in order to compare the relationships between categorical variables.\n",
        "\n",
        "It will also be helpful to keep an eye out for variables that you could use to split the data into two different samples for conducting two-sample t-tests.\n",
        "\n",
        "Remember, numeric variables can still be categorical if they are represented using discrete (countable e.g. - just a few) values.\n",
        "\n",
        "---\n",
        "\n",
        "### Hypothesis Tests\n",
        "\n",
        "Once you feel like you have a good handle on the types of variables in the dataset, please conduct at least:\n",
        "\n",
        "- Two 1-sample t-tests\n",
        "- Two 2-sample t-tests\n",
        "- Two chi^2 tests\n",
        "\n",
        "For each test please write out your: \n",
        "- null hypothesis\n",
        "- alternative hypothesis\n",
        "- confidence level\n",
        "- conclusion\n",
        "\n",
        "Your *main* goal is the hypothesis tests, so don't spend too much time on the exploration/visualization piece. That is just a means to an end.\n"
      ]
    },
    {
      "cell_type": "markdown",
      "metadata": {
        "id": "Hjliql0bOWa4",
        "colab_type": "text"
      },
      "source": [
        "### Exploratory Data Analysis"
      ]
    },
    {
      "cell_type": "code",
      "metadata": {
        "id": "bXiiocvtHgM7",
        "colab_type": "code",
        "colab": {
          "base_uri": "https://localhost:8080/",
          "height": 297
        },
        "outputId": "2ba1f96a-0ed7-45c7-d2e6-8742278f2f4a"
      },
      "source": [
        "df.describe()"
      ],
      "execution_count": 76,
      "outputs": [
        {
          "output_type": "execute_result",
          "data": {
            "text/html": [
              "<div>\n",
              "<style scoped>\n",
              "    .dataframe tbody tr th:only-of-type {\n",
              "        vertical-align: middle;\n",
              "    }\n",
              "\n",
              "    .dataframe tbody tr th {\n",
              "        vertical-align: top;\n",
              "    }\n",
              "\n",
              "    .dataframe thead th {\n",
              "        text-align: right;\n",
              "    }\n",
              "</style>\n",
              "<table border=\"1\" class=\"dataframe\">\n",
              "  <thead>\n",
              "    <tr style=\"text-align: right;\">\n",
              "      <th></th>\n",
              "      <th>still_alive</th>\n",
              "      <th>pericardial_effusion</th>\n",
              "    </tr>\n",
              "  </thead>\n",
              "  <tbody>\n",
              "    <tr>\n",
              "      <th>count</th>\n",
              "      <td>130.000000</td>\n",
              "      <td>130.000000</td>\n",
              "    </tr>\n",
              "    <tr>\n",
              "      <th>mean</th>\n",
              "      <td>0.330769</td>\n",
              "      <td>0.184615</td>\n",
              "    </tr>\n",
              "    <tr>\n",
              "      <th>std</th>\n",
              "      <td>0.472310</td>\n",
              "      <td>0.389486</td>\n",
              "    </tr>\n",
              "    <tr>\n",
              "      <th>min</th>\n",
              "      <td>0.000000</td>\n",
              "      <td>0.000000</td>\n",
              "    </tr>\n",
              "    <tr>\n",
              "      <th>25%</th>\n",
              "      <td>0.000000</td>\n",
              "      <td>0.000000</td>\n",
              "    </tr>\n",
              "    <tr>\n",
              "      <th>50%</th>\n",
              "      <td>0.000000</td>\n",
              "      <td>0.000000</td>\n",
              "    </tr>\n",
              "    <tr>\n",
              "      <th>75%</th>\n",
              "      <td>1.000000</td>\n",
              "      <td>0.000000</td>\n",
              "    </tr>\n",
              "    <tr>\n",
              "      <th>max</th>\n",
              "      <td>1.000000</td>\n",
              "      <td>1.000000</td>\n",
              "    </tr>\n",
              "  </tbody>\n",
              "</table>\n",
              "</div>"
            ],
            "text/plain": [
              "       still_alive  pericardial_effusion\n",
              "count   130.000000            130.000000\n",
              "mean      0.330769              0.184615\n",
              "std       0.472310              0.389486\n",
              "min       0.000000              0.000000\n",
              "25%       0.000000              0.000000\n",
              "50%       0.000000              0.000000\n",
              "75%       1.000000              0.000000\n",
              "max       1.000000              1.000000"
            ]
          },
          "metadata": {
            "tags": []
          },
          "execution_count": 76
        }
      ]
    },
    {
      "cell_type": "code",
      "metadata": {
        "id": "UcJ7ShQHy4GR",
        "colab_type": "code",
        "colab": {
          "base_uri": "https://localhost:8080/",
          "height": 173
        },
        "outputId": "2736349e-8e17-4b7a-c03f-3b6198788b6d"
      },
      "source": [
        "df.describe(exclude= 'number')"
      ],
      "execution_count": 77,
      "outputs": [
        {
          "output_type": "execute_result",
          "data": {
            "text/html": [
              "<div>\n",
              "<style scoped>\n",
              "    .dataframe tbody tr th:only-of-type {\n",
              "        vertical-align: middle;\n",
              "    }\n",
              "\n",
              "    .dataframe tbody tr th {\n",
              "        vertical-align: top;\n",
              "    }\n",
              "\n",
              "    .dataframe thead th {\n",
              "        text-align: right;\n",
              "    }\n",
              "</style>\n",
              "<table border=\"1\" class=\"dataframe\">\n",
              "  <thead>\n",
              "    <tr style=\"text-align: right;\">\n",
              "      <th></th>\n",
              "      <th>survival</th>\n",
              "      <th>age_at_heart_attack</th>\n",
              "      <th>fract_short</th>\n",
              "      <th>epss</th>\n",
              "      <th>lvdd</th>\n",
              "      <th>wm_score</th>\n",
              "      <th>wm_index</th>\n",
              "      <th>mult</th>\n",
              "      <th>alive_at_1</th>\n",
              "    </tr>\n",
              "  </thead>\n",
              "  <tbody>\n",
              "    <tr>\n",
              "      <th>count</th>\n",
              "      <td>129</td>\n",
              "      <td>125</td>\n",
              "      <td>123</td>\n",
              "      <td>116</td>\n",
              "      <td>120</td>\n",
              "      <td>127</td>\n",
              "      <td>129</td>\n",
              "      <td>127</td>\n",
              "      <td>73</td>\n",
              "    </tr>\n",
              "    <tr>\n",
              "      <th>unique</th>\n",
              "      <td>55</td>\n",
              "      <td>38</td>\n",
              "      <td>72</td>\n",
              "      <td>91</td>\n",
              "      <td>104</td>\n",
              "      <td>46</td>\n",
              "      <td>65</td>\n",
              "      <td>30</td>\n",
              "      <td>2</td>\n",
              "    </tr>\n",
              "    <tr>\n",
              "      <th>top</th>\n",
              "      <td>0.5</td>\n",
              "      <td>62</td>\n",
              "      <td>0.20</td>\n",
              "      <td>0</td>\n",
              "      <td>4.48</td>\n",
              "      <td>14</td>\n",
              "      <td>1</td>\n",
              "      <td>0.857</td>\n",
              "      <td>0</td>\n",
              "    </tr>\n",
              "    <tr>\n",
              "      <th>freq</th>\n",
              "      <td>6</td>\n",
              "      <td>10</td>\n",
              "      <td>6</td>\n",
              "      <td>7</td>\n",
              "      <td>3</td>\n",
              "      <td>20</td>\n",
              "      <td>41</td>\n",
              "      <td>29</td>\n",
              "      <td>49</td>\n",
              "    </tr>\n",
              "  </tbody>\n",
              "</table>\n",
              "</div>"
            ],
            "text/plain": [
              "       survival age_at_heart_attack fract_short  ... wm_index   mult alive_at_1\n",
              "count       129                 125         123  ...      129    127         73\n",
              "unique       55                  38          72  ...       65     30          2\n",
              "top         0.5                  62        0.20  ...        1  0.857          0\n",
              "freq          6                  10           6  ...       41     29         49\n",
              "\n",
              "[4 rows x 9 columns]"
            ]
          },
          "metadata": {
            "tags": []
          },
          "execution_count": 77
        }
      ]
    },
    {
      "cell_type": "markdown",
      "metadata": {
        "id": "AKJRXtlWOYeS",
        "colab_type": "text"
      },
      "source": [
        "### One-Sample T-tests"
      ]
    },
    {
      "cell_type": "code",
      "metadata": {
        "id": "o47l_PzOOhee",
        "colab_type": "code",
        "colab": {}
      },
      "source": [
        "from scipy import stats"
      ],
      "execution_count": 42,
      "outputs": []
    },
    {
      "cell_type": "code",
      "metadata": {
        "id": "WM092QexQgxY",
        "colab_type": "code",
        "colab": {
          "base_uri": "https://localhost:8080/",
          "height": 224
        },
        "outputId": "4209ab13-3c4d-4bc2-a47a-369dfd5e223b"
      },
      "source": [
        "df.head()"
      ],
      "execution_count": 158,
      "outputs": [
        {
          "output_type": "execute_result",
          "data": {
            "text/html": [
              "<div>\n",
              "<style scoped>\n",
              "    .dataframe tbody tr th:only-of-type {\n",
              "        vertical-align: middle;\n",
              "    }\n",
              "\n",
              "    .dataframe tbody tr th {\n",
              "        vertical-align: top;\n",
              "    }\n",
              "\n",
              "    .dataframe thead th {\n",
              "        text-align: right;\n",
              "    }\n",
              "</style>\n",
              "<table border=\"1\" class=\"dataframe\">\n",
              "  <thead>\n",
              "    <tr style=\"text-align: right;\">\n",
              "      <th></th>\n",
              "      <th>survival</th>\n",
              "      <th>still_alive</th>\n",
              "      <th>age_at_heart_attack</th>\n",
              "      <th>pericardial_effusion</th>\n",
              "      <th>fract_short</th>\n",
              "      <th>epss</th>\n",
              "      <th>lvdd</th>\n",
              "      <th>wm_score</th>\n",
              "      <th>wm_index</th>\n",
              "      <th>mult</th>\n",
              "      <th>alive_at_1</th>\n",
              "    </tr>\n",
              "  </thead>\n",
              "  <tbody>\n",
              "    <tr>\n",
              "      <th>0</th>\n",
              "      <td>19</td>\n",
              "      <td>0</td>\n",
              "      <td>72.0</td>\n",
              "      <td>0</td>\n",
              "      <td>0.380</td>\n",
              "      <td>6</td>\n",
              "      <td>4.100</td>\n",
              "      <td>14</td>\n",
              "      <td>1.700</td>\n",
              "      <td>0.588</td>\n",
              "      <td>0</td>\n",
              "    </tr>\n",
              "    <tr>\n",
              "      <th>1</th>\n",
              "      <td>16</td>\n",
              "      <td>0</td>\n",
              "      <td>55.0</td>\n",
              "      <td>0</td>\n",
              "      <td>0.260</td>\n",
              "      <td>4</td>\n",
              "      <td>3.420</td>\n",
              "      <td>14</td>\n",
              "      <td>1</td>\n",
              "      <td>1</td>\n",
              "      <td>0</td>\n",
              "    </tr>\n",
              "    <tr>\n",
              "      <th>2</th>\n",
              "      <td>57</td>\n",
              "      <td>0</td>\n",
              "      <td>60.0</td>\n",
              "      <td>0</td>\n",
              "      <td>0.253</td>\n",
              "      <td>12.062</td>\n",
              "      <td>4.603</td>\n",
              "      <td>16</td>\n",
              "      <td>1.450</td>\n",
              "      <td>0.788</td>\n",
              "      <td>0</td>\n",
              "    </tr>\n",
              "    <tr>\n",
              "      <th>3</th>\n",
              "      <td>19</td>\n",
              "      <td>1</td>\n",
              "      <td>57.0</td>\n",
              "      <td>0</td>\n",
              "      <td>0.160</td>\n",
              "      <td>22</td>\n",
              "      <td>5.750</td>\n",
              "      <td>18</td>\n",
              "      <td>2.250</td>\n",
              "      <td>0.571</td>\n",
              "      <td>0</td>\n",
              "    </tr>\n",
              "    <tr>\n",
              "      <th>4</th>\n",
              "      <td>26</td>\n",
              "      <td>0</td>\n",
              "      <td>68.0</td>\n",
              "      <td>0</td>\n",
              "      <td>0.260</td>\n",
              "      <td>5</td>\n",
              "      <td>4.310</td>\n",
              "      <td>12</td>\n",
              "      <td>1</td>\n",
              "      <td>0.857</td>\n",
              "      <td>0</td>\n",
              "    </tr>\n",
              "  </tbody>\n",
              "</table>\n",
              "</div>"
            ],
            "text/plain": [
              "  survival  still_alive  age_at_heart_attack  ...  wm_index   mult alive_at_1\n",
              "0       19            0                 72.0  ...     1.700  0.588          0\n",
              "1       16            0                 55.0  ...         1      1          0\n",
              "2       57            0                 60.0  ...     1.450  0.788          0\n",
              "3       19            1                 57.0  ...     2.250  0.571          0\n",
              "4       26            0                 68.0  ...         1  0.857          0\n",
              "\n",
              "[5 rows x 11 columns]"
            ]
          },
          "metadata": {
            "tags": []
          },
          "execution_count": 158
        }
      ]
    },
    {
      "cell_type": "code",
      "metadata": {
        "id": "NtYCLDtoPyWv",
        "colab_type": "code",
        "colab": {
          "base_uri": "https://localhost:8080/",
          "height": 51
        },
        "outputId": "905ee214-c199-4355-c3db-74e9774a541c"
      },
      "source": [
        "sample = df.sample(n= 10)\n",
        "print('population ', df['pericardial_effusion'].mean())\n",
        "\n",
        "stats.ttest_1samp(a= sample['pericardial_effusion'], popmean= 0.1846)\n"
      ],
      "execution_count": 164,
      "outputs": [
        {
          "output_type": "stream",
          "text": [
            "population  0.18461538461538463\n"
          ],
          "name": "stdout"
        },
        {
          "output_type": "execute_result",
          "data": {
            "text/plain": [
              "Ttest_1sampResult(statistic=0.11550000000000016, pvalue=0.9105847851243518)"
            ]
          },
          "metadata": {
            "tags": []
          },
          "execution_count": 164
        }
      ]
    },
    {
      "cell_type": "markdown",
      "metadata": {
        "id": "tpVg1MmZ5Oo8",
        "colab_type": "text"
      },
      "source": [
        "##Testing probability of pericardial effusion\n",
        "### Null hypothesis: The mean of pericardial effusion is 0.1846. \n",
        "### Alternative hypothesis: The mean of pericardial effusion is not 0.1846.\n",
        "### Conclusion: Based on the p-value of 0.91 we reject the null hypothesis."
      ]
    },
    {
      "cell_type": "code",
      "metadata": {
        "id": "wwEv0TwD2KY5",
        "colab_type": "code",
        "colab": {
          "base_uri": "https://localhost:8080/",
          "height": 34
        },
        "outputId": "805ecf74-15bd-4acc-a9b9-5fc2c068d312"
      },
      "source": [
        "stats.ttest_1samp(df['pericardial_effusion'], 1)"
      ],
      "execution_count": 87,
      "outputs": [
        {
          "output_type": "execute_result",
          "data": {
            "text/plain": [
              "Ttest_1sampResult(statistic=-23.86943652456002, pvalue=3.661455082928377e-49)"
            ]
          },
          "metadata": {
            "tags": []
          },
          "execution_count": 87
        }
      ]
    },
    {
      "cell_type": "markdown",
      "metadata": {
        "id": "y5QHjEEf7gdW",
        "colab_type": "text"
      },
      "source": [
        "##Testing probability of Patient Being Alive.\n",
        "### Null hypothesis: The patient is still alive 33% of the time.\n",
        "### Alternative hypothesis: The patient is not still alive 33% of the time.\n",
        "### Conclusion: Based on the p-value of 0.04 we fail to reject the null hypothesis with a confidence level of over 95%."
      ]
    },
    {
      "cell_type": "code",
      "metadata": {
        "id": "rlnuFAHASbyI",
        "colab_type": "code",
        "colab": {
          "base_uri": "https://localhost:8080/",
          "height": 51
        },
        "outputId": "47f29ef4-7ef7-4cc1-b7a5-435816f69e83"
      },
      "source": [
        "sample = df.sample(n= 10)\n",
        "print('population ', df['still_alive'].mean())\n",
        "\n",
        "stats.ttest_1samp(a= sample['still_alive'], popmean= 0.3307)"
      ],
      "execution_count": 166,
      "outputs": [
        {
          "output_type": "stream",
          "text": [
            "population  0.33076923076923076\n"
          ],
          "name": "stdout"
        },
        {
          "output_type": "execute_result",
          "data": {
            "text/plain": [
              "Ttest_1sampResult(statistic=-2.307, pvalue=0.046464078895375086)"
            ]
          },
          "metadata": {
            "tags": []
          },
          "execution_count": 166
        }
      ]
    },
    {
      "cell_type": "code",
      "metadata": {
        "id": "atKbaRP775Sk",
        "colab_type": "code",
        "colab": {
          "base_uri": "https://localhost:8080/",
          "height": 34
        },
        "outputId": "1a12e059-f3c0-4efb-d922-a9850fe8f9e9"
      },
      "source": [
        "stats.ttest_1samp(df['still_alive'], 1)"
      ],
      "execution_count": 113,
      "outputs": [
        {
          "output_type": "execute_result",
          "data": {
            "text/plain": [
              "Ttest_1sampResult(statistic=-16.155494421403514, pvalue=8.724913304838833e-33)"
            ]
          },
          "metadata": {
            "tags": []
          },
          "execution_count": 113
        }
      ]
    },
    {
      "cell_type": "markdown",
      "metadata": {
        "id": "I1ZKfv3w-2tf",
        "colab_type": "text"
      },
      "source": [
        "## Conclusion for Still Alive\n",
        "Based on the very small p_value of 8.7e-33 the null hypothesis of the patient still being alive is rejected with a confidence level greater than 99%. "
      ]
    },
    {
      "cell_type": "markdown",
      "metadata": {
        "id": "vDiA_nksOdT5",
        "colab_type": "text"
      },
      "source": [
        "### Two-Sample T-tests"
      ]
    },
    {
      "cell_type": "markdown",
      "metadata": {
        "id": "PN9PDu5IBozX",
        "colab_type": "text"
      },
      "source": [
        "## Testing pericardial effusion and whether patient survives\n",
        "### Null hypothesis: Patients with pericardial effusion affects whether they are still alive.\n",
        "### Alternative hypothesis: Patients with pericardial effusion does not affect their survival."
      ]
    },
    {
      "cell_type": "code",
      "metadata": {
        "id": "o060TTDLOiDF",
        "colab_type": "code",
        "colab": {
          "base_uri": "https://localhost:8080/",
          "height": 224
        },
        "outputId": "a2c1c02a-665d-4f6a-f71c-bc0d649365a1"
      },
      "source": [
        "# Creating two samples based on pericardial effusion\n",
        "fluid = df[df['pericardial_effusion'] == 1]\n",
        "no_fluid = df[df['pericardial_effusion'] == 0]"
      ],
      "execution_count": 115,
      "outputs": [
        {
          "output_type": "execute_result",
          "data": {
            "text/html": [
              "<div>\n",
              "<style scoped>\n",
              "    .dataframe tbody tr th:only-of-type {\n",
              "        vertical-align: middle;\n",
              "    }\n",
              "\n",
              "    .dataframe tbody tr th {\n",
              "        vertical-align: top;\n",
              "    }\n",
              "\n",
              "    .dataframe thead th {\n",
              "        text-align: right;\n",
              "    }\n",
              "</style>\n",
              "<table border=\"1\" class=\"dataframe\">\n",
              "  <thead>\n",
              "    <tr style=\"text-align: right;\">\n",
              "      <th></th>\n",
              "      <th>survival</th>\n",
              "      <th>still_alive</th>\n",
              "      <th>age_at_heart_attack</th>\n",
              "      <th>pericardial_effusion</th>\n",
              "      <th>fract_short</th>\n",
              "      <th>epss</th>\n",
              "      <th>lvdd</th>\n",
              "      <th>wm_score</th>\n",
              "      <th>wm_index</th>\n",
              "      <th>mult</th>\n",
              "      <th>alive_at_1</th>\n",
              "    </tr>\n",
              "  </thead>\n",
              "  <tbody>\n",
              "    <tr>\n",
              "      <th>0</th>\n",
              "      <td>19</td>\n",
              "      <td>0</td>\n",
              "      <td>72</td>\n",
              "      <td>0</td>\n",
              "      <td>0.380</td>\n",
              "      <td>6</td>\n",
              "      <td>4.100</td>\n",
              "      <td>14</td>\n",
              "      <td>1.700</td>\n",
              "      <td>0.588</td>\n",
              "      <td>0</td>\n",
              "    </tr>\n",
              "    <tr>\n",
              "      <th>1</th>\n",
              "      <td>16</td>\n",
              "      <td>0</td>\n",
              "      <td>55</td>\n",
              "      <td>0</td>\n",
              "      <td>0.260</td>\n",
              "      <td>4</td>\n",
              "      <td>3.420</td>\n",
              "      <td>14</td>\n",
              "      <td>1</td>\n",
              "      <td>1</td>\n",
              "      <td>0</td>\n",
              "    </tr>\n",
              "    <tr>\n",
              "      <th>2</th>\n",
              "      <td>57</td>\n",
              "      <td>0</td>\n",
              "      <td>60</td>\n",
              "      <td>0</td>\n",
              "      <td>0.253</td>\n",
              "      <td>12.062</td>\n",
              "      <td>4.603</td>\n",
              "      <td>16</td>\n",
              "      <td>1.450</td>\n",
              "      <td>0.788</td>\n",
              "      <td>0</td>\n",
              "    </tr>\n",
              "    <tr>\n",
              "      <th>3</th>\n",
              "      <td>19</td>\n",
              "      <td>1</td>\n",
              "      <td>57</td>\n",
              "      <td>0</td>\n",
              "      <td>0.160</td>\n",
              "      <td>22</td>\n",
              "      <td>5.750</td>\n",
              "      <td>18</td>\n",
              "      <td>2.250</td>\n",
              "      <td>0.571</td>\n",
              "      <td>0</td>\n",
              "    </tr>\n",
              "    <tr>\n",
              "      <th>4</th>\n",
              "      <td>26</td>\n",
              "      <td>0</td>\n",
              "      <td>68</td>\n",
              "      <td>0</td>\n",
              "      <td>0.260</td>\n",
              "      <td>5</td>\n",
              "      <td>4.310</td>\n",
              "      <td>12</td>\n",
              "      <td>1</td>\n",
              "      <td>0.857</td>\n",
              "      <td>0</td>\n",
              "    </tr>\n",
              "  </tbody>\n",
              "</table>\n",
              "</div>"
            ],
            "text/plain": [
              "  survival  still_alive age_at_heart_attack  ...  wm_index   mult alive_at_1\n",
              "0       19            0                  72  ...     1.700  0.588          0\n",
              "1       16            0                  55  ...         1      1          0\n",
              "2       57            0                  60  ...     1.450  0.788          0\n",
              "3       19            1                  57  ...     2.250  0.571          0\n",
              "4       26            0                  68  ...         1  0.857          0\n",
              "\n",
              "[5 rows x 11 columns]"
            ]
          },
          "metadata": {
            "tags": []
          },
          "execution_count": 115
        }
      ]
    },
    {
      "cell_type": "code",
      "metadata": {
        "id": "fn6nvp_KAt57",
        "colab_type": "code",
        "colab": {
          "base_uri": "https://localhost:8080/",
          "height": 34
        },
        "outputId": "a0fa48df-f4d3-4f46-c7e2-8a4c118e972c"
      },
      "source": [
        "stats.ttest_ind(fluid['still_alive'], no_fluid['still_alive'])"
      ],
      "execution_count": 117,
      "outputs": [
        {
          "output_type": "execute_result",
          "data": {
            "text/plain": [
              "Ttest_indResult(statistic=1.9653613296954275, pvalue=0.05153774930594359)"
            ]
          },
          "metadata": {
            "tags": []
          },
          "execution_count": 117
        }
      ]
    },
    {
      "cell_type": "markdown",
      "metadata": {
        "id": "sZENLcciCUv-",
        "colab_type": "text"
      },
      "source": [
        "### Conclusion: With a confidence level of 90% (0.1) the p-value of 0.051 fails to reject the null hypothesis."
      ]
    },
    {
      "cell_type": "markdown",
      "metadata": {
        "id": "jGzG4VZ9C8XS",
        "colab_type": "text"
      },
      "source": [
        "## Testing age at heart attack and whether patient survives\n",
        "### Null hypothesis: There is a difference between age groups and whether they are still alive.\n",
        "### Alternative hypothesis: There is no difference between age groups and still being alive."
      ]
    },
    {
      "cell_type": "code",
      "metadata": {
        "id": "5hTCCKqAE_0W",
        "colab_type": "code",
        "colab": {
          "base_uri": "https://localhost:8080/",
          "height": 224
        },
        "outputId": "55733a32-581d-408b-ab4d-a4f5e7c9fd37"
      },
      "source": [
        "df.head()"
      ],
      "execution_count": 127,
      "outputs": [
        {
          "output_type": "execute_result",
          "data": {
            "text/html": [
              "<div>\n",
              "<style scoped>\n",
              "    .dataframe tbody tr th:only-of-type {\n",
              "        vertical-align: middle;\n",
              "    }\n",
              "\n",
              "    .dataframe tbody tr th {\n",
              "        vertical-align: top;\n",
              "    }\n",
              "\n",
              "    .dataframe thead th {\n",
              "        text-align: right;\n",
              "    }\n",
              "</style>\n",
              "<table border=\"1\" class=\"dataframe\">\n",
              "  <thead>\n",
              "    <tr style=\"text-align: right;\">\n",
              "      <th></th>\n",
              "      <th>survival</th>\n",
              "      <th>still_alive</th>\n",
              "      <th>age_at_heart_attack</th>\n",
              "      <th>pericardial_effusion</th>\n",
              "      <th>fract_short</th>\n",
              "      <th>epss</th>\n",
              "      <th>lvdd</th>\n",
              "      <th>wm_score</th>\n",
              "      <th>wm_index</th>\n",
              "      <th>mult</th>\n",
              "      <th>alive_at_1</th>\n",
              "    </tr>\n",
              "  </thead>\n",
              "  <tbody>\n",
              "    <tr>\n",
              "      <th>0</th>\n",
              "      <td>19</td>\n",
              "      <td>0</td>\n",
              "      <td>72</td>\n",
              "      <td>0</td>\n",
              "      <td>0.380</td>\n",
              "      <td>6</td>\n",
              "      <td>4.100</td>\n",
              "      <td>14</td>\n",
              "      <td>1.700</td>\n",
              "      <td>0.588</td>\n",
              "      <td>0</td>\n",
              "    </tr>\n",
              "    <tr>\n",
              "      <th>1</th>\n",
              "      <td>16</td>\n",
              "      <td>0</td>\n",
              "      <td>55</td>\n",
              "      <td>0</td>\n",
              "      <td>0.260</td>\n",
              "      <td>4</td>\n",
              "      <td>3.420</td>\n",
              "      <td>14</td>\n",
              "      <td>1</td>\n",
              "      <td>1</td>\n",
              "      <td>0</td>\n",
              "    </tr>\n",
              "    <tr>\n",
              "      <th>2</th>\n",
              "      <td>57</td>\n",
              "      <td>0</td>\n",
              "      <td>60</td>\n",
              "      <td>0</td>\n",
              "      <td>0.253</td>\n",
              "      <td>12.062</td>\n",
              "      <td>4.603</td>\n",
              "      <td>16</td>\n",
              "      <td>1.450</td>\n",
              "      <td>0.788</td>\n",
              "      <td>0</td>\n",
              "    </tr>\n",
              "    <tr>\n",
              "      <th>3</th>\n",
              "      <td>19</td>\n",
              "      <td>1</td>\n",
              "      <td>57</td>\n",
              "      <td>0</td>\n",
              "      <td>0.160</td>\n",
              "      <td>22</td>\n",
              "      <td>5.750</td>\n",
              "      <td>18</td>\n",
              "      <td>2.250</td>\n",
              "      <td>0.571</td>\n",
              "      <td>0</td>\n",
              "    </tr>\n",
              "    <tr>\n",
              "      <th>4</th>\n",
              "      <td>26</td>\n",
              "      <td>0</td>\n",
              "      <td>68</td>\n",
              "      <td>0</td>\n",
              "      <td>0.260</td>\n",
              "      <td>5</td>\n",
              "      <td>4.310</td>\n",
              "      <td>12</td>\n",
              "      <td>1</td>\n",
              "      <td>0.857</td>\n",
              "      <td>0</td>\n",
              "    </tr>\n",
              "  </tbody>\n",
              "</table>\n",
              "</div>"
            ],
            "text/plain": [
              "  survival  still_alive age_at_heart_attack  ...  wm_index   mult alive_at_1\n",
              "0       19            0                  72  ...     1.700  0.588          0\n",
              "1       16            0                  55  ...         1      1          0\n",
              "2       57            0                  60  ...     1.450  0.788          0\n",
              "3       19            1                  57  ...     2.250  0.571          0\n",
              "4       26            0                  68  ...         1  0.857          0\n",
              "\n",
              "[5 rows x 11 columns]"
            ]
          },
          "metadata": {
            "tags": []
          },
          "execution_count": 127
        }
      ]
    },
    {
      "cell_type": "code",
      "metadata": {
        "id": "At0uu1foERXP",
        "colab_type": "code",
        "colab": {
          "base_uri": "https://localhost:8080/",
          "height": 224
        },
        "outputId": "6147bbcf-6892-4eda-dde8-c88b3c12ed8d"
      },
      "source": [
        "# Changing age from strings to floats\n",
        "df['age_at_heart_attack'] = df['age_at_heart_attack'].apply(float)\n",
        "df.head()"
      ],
      "execution_count": 128,
      "outputs": [
        {
          "output_type": "execute_result",
          "data": {
            "text/html": [
              "<div>\n",
              "<style scoped>\n",
              "    .dataframe tbody tr th:only-of-type {\n",
              "        vertical-align: middle;\n",
              "    }\n",
              "\n",
              "    .dataframe tbody tr th {\n",
              "        vertical-align: top;\n",
              "    }\n",
              "\n",
              "    .dataframe thead th {\n",
              "        text-align: right;\n",
              "    }\n",
              "</style>\n",
              "<table border=\"1\" class=\"dataframe\">\n",
              "  <thead>\n",
              "    <tr style=\"text-align: right;\">\n",
              "      <th></th>\n",
              "      <th>survival</th>\n",
              "      <th>still_alive</th>\n",
              "      <th>age_at_heart_attack</th>\n",
              "      <th>pericardial_effusion</th>\n",
              "      <th>fract_short</th>\n",
              "      <th>epss</th>\n",
              "      <th>lvdd</th>\n",
              "      <th>wm_score</th>\n",
              "      <th>wm_index</th>\n",
              "      <th>mult</th>\n",
              "      <th>alive_at_1</th>\n",
              "    </tr>\n",
              "  </thead>\n",
              "  <tbody>\n",
              "    <tr>\n",
              "      <th>0</th>\n",
              "      <td>19</td>\n",
              "      <td>0</td>\n",
              "      <td>72.0</td>\n",
              "      <td>0</td>\n",
              "      <td>0.380</td>\n",
              "      <td>6</td>\n",
              "      <td>4.100</td>\n",
              "      <td>14</td>\n",
              "      <td>1.700</td>\n",
              "      <td>0.588</td>\n",
              "      <td>0</td>\n",
              "    </tr>\n",
              "    <tr>\n",
              "      <th>1</th>\n",
              "      <td>16</td>\n",
              "      <td>0</td>\n",
              "      <td>55.0</td>\n",
              "      <td>0</td>\n",
              "      <td>0.260</td>\n",
              "      <td>4</td>\n",
              "      <td>3.420</td>\n",
              "      <td>14</td>\n",
              "      <td>1</td>\n",
              "      <td>1</td>\n",
              "      <td>0</td>\n",
              "    </tr>\n",
              "    <tr>\n",
              "      <th>2</th>\n",
              "      <td>57</td>\n",
              "      <td>0</td>\n",
              "      <td>60.0</td>\n",
              "      <td>0</td>\n",
              "      <td>0.253</td>\n",
              "      <td>12.062</td>\n",
              "      <td>4.603</td>\n",
              "      <td>16</td>\n",
              "      <td>1.450</td>\n",
              "      <td>0.788</td>\n",
              "      <td>0</td>\n",
              "    </tr>\n",
              "    <tr>\n",
              "      <th>3</th>\n",
              "      <td>19</td>\n",
              "      <td>1</td>\n",
              "      <td>57.0</td>\n",
              "      <td>0</td>\n",
              "      <td>0.160</td>\n",
              "      <td>22</td>\n",
              "      <td>5.750</td>\n",
              "      <td>18</td>\n",
              "      <td>2.250</td>\n",
              "      <td>0.571</td>\n",
              "      <td>0</td>\n",
              "    </tr>\n",
              "    <tr>\n",
              "      <th>4</th>\n",
              "      <td>26</td>\n",
              "      <td>0</td>\n",
              "      <td>68.0</td>\n",
              "      <td>0</td>\n",
              "      <td>0.260</td>\n",
              "      <td>5</td>\n",
              "      <td>4.310</td>\n",
              "      <td>12</td>\n",
              "      <td>1</td>\n",
              "      <td>0.857</td>\n",
              "      <td>0</td>\n",
              "    </tr>\n",
              "  </tbody>\n",
              "</table>\n",
              "</div>"
            ],
            "text/plain": [
              "  survival  still_alive  age_at_heart_attack  ...  wm_index   mult alive_at_1\n",
              "0       19            0                 72.0  ...     1.700  0.588          0\n",
              "1       16            0                 55.0  ...         1      1          0\n",
              "2       57            0                 60.0  ...     1.450  0.788          0\n",
              "3       19            1                 57.0  ...     2.250  0.571          0\n",
              "4       26            0                 68.0  ...         1  0.857          0\n",
              "\n",
              "[5 rows x 11 columns]"
            ]
          },
          "metadata": {
            "tags": []
          },
          "execution_count": 128
        }
      ]
    },
    {
      "cell_type": "code",
      "metadata": {
        "id": "ufBvPquxDb7z",
        "colab_type": "code",
        "colab": {
          "base_uri": "https://localhost:8080/",
          "height": 224
        },
        "outputId": "16d8bff6-b274-4cd7-b566-e3990117cc2a"
      },
      "source": [
        "# Dividing the age at heart attack into two samples\n",
        "over_55 = df[df['age_at_heart_attack'] > 55]\n",
        "under_55 = df[df['age_at_heart_attack'] <= 55]\n",
        "over_55.head()"
      ],
      "execution_count": 130,
      "outputs": [
        {
          "output_type": "execute_result",
          "data": {
            "text/html": [
              "<div>\n",
              "<style scoped>\n",
              "    .dataframe tbody tr th:only-of-type {\n",
              "        vertical-align: middle;\n",
              "    }\n",
              "\n",
              "    .dataframe tbody tr th {\n",
              "        vertical-align: top;\n",
              "    }\n",
              "\n",
              "    .dataframe thead th {\n",
              "        text-align: right;\n",
              "    }\n",
              "</style>\n",
              "<table border=\"1\" class=\"dataframe\">\n",
              "  <thead>\n",
              "    <tr style=\"text-align: right;\">\n",
              "      <th></th>\n",
              "      <th>survival</th>\n",
              "      <th>still_alive</th>\n",
              "      <th>age_at_heart_attack</th>\n",
              "      <th>pericardial_effusion</th>\n",
              "      <th>fract_short</th>\n",
              "      <th>epss</th>\n",
              "      <th>lvdd</th>\n",
              "      <th>wm_score</th>\n",
              "      <th>wm_index</th>\n",
              "      <th>mult</th>\n",
              "      <th>alive_at_1</th>\n",
              "    </tr>\n",
              "  </thead>\n",
              "  <tbody>\n",
              "    <tr>\n",
              "      <th>0</th>\n",
              "      <td>19</td>\n",
              "      <td>0</td>\n",
              "      <td>72.0</td>\n",
              "      <td>0</td>\n",
              "      <td>0.380</td>\n",
              "      <td>6</td>\n",
              "      <td>4.100</td>\n",
              "      <td>14</td>\n",
              "      <td>1.700</td>\n",
              "      <td>0.588</td>\n",
              "      <td>0</td>\n",
              "    </tr>\n",
              "    <tr>\n",
              "      <th>2</th>\n",
              "      <td>57</td>\n",
              "      <td>0</td>\n",
              "      <td>60.0</td>\n",
              "      <td>0</td>\n",
              "      <td>0.253</td>\n",
              "      <td>12.062</td>\n",
              "      <td>4.603</td>\n",
              "      <td>16</td>\n",
              "      <td>1.450</td>\n",
              "      <td>0.788</td>\n",
              "      <td>0</td>\n",
              "    </tr>\n",
              "    <tr>\n",
              "      <th>3</th>\n",
              "      <td>19</td>\n",
              "      <td>1</td>\n",
              "      <td>57.0</td>\n",
              "      <td>0</td>\n",
              "      <td>0.160</td>\n",
              "      <td>22</td>\n",
              "      <td>5.750</td>\n",
              "      <td>18</td>\n",
              "      <td>2.250</td>\n",
              "      <td>0.571</td>\n",
              "      <td>0</td>\n",
              "    </tr>\n",
              "    <tr>\n",
              "      <th>4</th>\n",
              "      <td>26</td>\n",
              "      <td>0</td>\n",
              "      <td>68.0</td>\n",
              "      <td>0</td>\n",
              "      <td>0.260</td>\n",
              "      <td>5</td>\n",
              "      <td>4.310</td>\n",
              "      <td>12</td>\n",
              "      <td>1</td>\n",
              "      <td>0.857</td>\n",
              "      <td>0</td>\n",
              "    </tr>\n",
              "    <tr>\n",
              "      <th>5</th>\n",
              "      <td>13</td>\n",
              "      <td>0</td>\n",
              "      <td>62.0</td>\n",
              "      <td>0</td>\n",
              "      <td>0.230</td>\n",
              "      <td>31</td>\n",
              "      <td>5.430</td>\n",
              "      <td>22.5</td>\n",
              "      <td>1.875</td>\n",
              "      <td>0.857</td>\n",
              "      <td>0</td>\n",
              "    </tr>\n",
              "  </tbody>\n",
              "</table>\n",
              "</div>"
            ],
            "text/plain": [
              "  survival  still_alive  age_at_heart_attack  ...  wm_index   mult alive_at_1\n",
              "0       19            0                 72.0  ...     1.700  0.588          0\n",
              "2       57            0                 60.0  ...     1.450  0.788          0\n",
              "3       19            1                 57.0  ...     2.250  0.571          0\n",
              "4       26            0                 68.0  ...         1  0.857          0\n",
              "5       13            0                 62.0  ...     1.875  0.857          0\n",
              "\n",
              "[5 rows x 11 columns]"
            ]
          },
          "metadata": {
            "tags": []
          },
          "execution_count": 130
        }
      ]
    },
    {
      "cell_type": "code",
      "metadata": {
        "id": "H-6op4yNDNfw",
        "colab_type": "code",
        "colab": {
          "base_uri": "https://localhost:8080/",
          "height": 34
        },
        "outputId": "9e6ec70f-b5e6-4723-8a52-1d4dab978bab"
      },
      "source": [
        "stats.ttest_ind(over_55['still_alive'], under_55['still_alive'], nan_policy = 'omit')"
      ],
      "execution_count": 131,
      "outputs": [
        {
          "output_type": "execute_result",
          "data": {
            "text/plain": [
              "Ttest_indResult(statistic=2.66195920947414, pvalue=0.00880670917995739)"
            ]
          },
          "metadata": {
            "tags": []
          },
          "execution_count": 131
        }
      ]
    },
    {
      "cell_type": "markdown",
      "metadata": {
        "id": "0D3BmHBVHB_M",
        "colab_type": "text"
      },
      "source": [
        "## Conclusion: Based on the p-value of 0.008 we fail to reject the null hypothesis with a confidence level of over 99%. There is a difference in being still alive between the age groups."
      ]
    },
    {
      "cell_type": "markdown",
      "metadata": {
        "id": "1yxRrPRkOdk9",
        "colab_type": "text"
      },
      "source": [
        "### Chi^2 T-tests"
      ]
    },
    {
      "cell_type": "code",
      "metadata": {
        "id": "szEC-PGIOik7",
        "colab_type": "code",
        "colab": {}
      },
      "source": [
        "from scipy.stats import chi2_contingency"
      ],
      "execution_count": 132,
      "outputs": []
    },
    {
      "cell_type": "code",
      "metadata": {
        "id": "HljRrKx9IGRK",
        "colab_type": "code",
        "colab": {
          "base_uri": "https://localhost:8080/",
          "height": 34
        },
        "outputId": "51c77533-ed42-4029-a8f4-43437197755b"
      },
      "source": [
        "g, p, dof, expctd = chi2_contingency(pd.crosstab(df['pericardial_effusion'],df['still_alive']))\n",
        "p"
      ],
      "execution_count": 134,
      "outputs": [
        {
          "output_type": "execute_result",
          "data": {
            "text/plain": [
              "0.08704457096657221"
            ]
          },
          "metadata": {
            "tags": []
          },
          "execution_count": 134
        }
      ]
    },
    {
      "cell_type": "markdown",
      "metadata": {
        "id": "FFRat2QPIxmq",
        "colab_type": "text"
      },
      "source": [
        "##Testing for relationship between pericardial effusion and still alive.\n",
        "### Null hypothesis: There IS a relationship between pericardial effusion and still alive.\n",
        "### Alternative hypothesis: There IS NOT a relationship.\n",
        "### Conclusion: Based on the p-value of 0.08 we fail to reject the null hypothesis with a confidence level of over 90%."
      ]
    },
    {
      "cell_type": "code",
      "metadata": {
        "id": "-hJ2lUU8Ji-_",
        "colab_type": "code",
        "colab": {
          "base_uri": "https://localhost:8080/",
          "height": 34
        },
        "outputId": "01e53fa7-986a-4391-afdc-59c30cd06a95"
      },
      "source": [
        "g, p, dof, expcted = chi2_contingency(pd.crosstab(df['pericardial_effusion'],df['age_at_heart_attack']))\n",
        "p"
      ],
      "execution_count": 136,
      "outputs": [
        {
          "output_type": "execute_result",
          "data": {
            "text/plain": [
              "0.6033651907741451"
            ]
          },
          "metadata": {
            "tags": []
          },
          "execution_count": 136
        }
      ]
    },
    {
      "cell_type": "markdown",
      "metadata": {
        "id": "VdPqqdqhJ1JP",
        "colab_type": "text"
      },
      "source": [
        "##Testing for relationship between pericardial effusion and age at heart attack.\n",
        "###Null hypothesis: There IS a relationship between pericardial effusion and age at heart attack.\n",
        "###Alternative hypothesis: There IS NOT a relationship.\n",
        "###Conclusion: Based on the p-value of 0.6 we reject the null hypothesis."
      ]
    },
    {
      "cell_type": "markdown",
      "metadata": {
        "id": "ZM8JckA2bgnp",
        "colab_type": "text"
      },
      "source": [
        "## Part 3 - Confidence Intervals\n",
        "\n",
        "- Pick two of the samples that you used above in your t-tests and please find a 95% confidence interval around their sample means in order to communicate the level of precision with which we are able to estimate them.\n",
        "\n",
        "- Please plot both 95% confidence intervals to display them visually. You may choose any suitable the plotting method.\n"
      ]
    },
    {
      "cell_type": "code",
      "metadata": {
        "id": "uBNWsxTUInzf",
        "colab_type": "code",
        "colab": {}
      },
      "source": [
        "from scipy.stats import t\n",
        "import seaborn as sns"
      ],
      "execution_count": null,
      "outputs": []
    },
    {
      "cell_type": "code",
      "metadata": {
        "id": "_cLOU4yEKbUj",
        "colab_type": "code",
        "colab": {}
      },
      "source": [
        "mean = df['age_at_heart_attack'].mean()\n",
        "sd = df['age_at_heart_attack'].std()\n",
        "n = df['age_at_heart_attack'].count()\n",
        "se = sd / n ** 0.5\n",
        "\n",
        "ci = t.interval(alpha= 0.95, df= (n-1), loc= mean, scale= se)\n"
      ],
      "execution_count": 143,
      "outputs": []
    },
    {
      "cell_type": "code",
      "metadata": {
        "id": "9SwlAzeSLJ07",
        "colab_type": "code",
        "colab": {
          "base_uri": "https://localhost:8080/",
          "height": 281
        },
        "outputId": "35906d44-58d0-4306-ed47-738bfab8251a"
      },
      "source": [
        "fig, ax = plt.subplots()\n",
        "plt.axvline(x= mean)\n",
        "plt.axvline(x= ci[0], color= 'r')\n",
        "plt.axvline(x= ci[1], color= 'r')\n",
        "plt.title('Age at Heart Attack')\n",
        "fig.set_facecolor(color= 'lightgrey')\n",
        "sns.kdeplot(df['age_at_heart_attack'], shade= True);"
      ],
      "execution_count": 153,
      "outputs": [
        {
          "output_type": "display_data",
          "data": {
            "image/png": "[encoded data removed]",
            "text/plain": [
              "<Figure size 432x288 with 1 Axes>"
            ]
          },
          "metadata": {
            "tags": []
          }
        }
      ]
    },
    {
      "cell_type": "code",
      "metadata": {
        "id": "flBHv7xvMgfI",
        "colab_type": "code",
        "colab": {}
      },
      "source": [
        "mean = df['still_alive'].mean()\n",
        "sd = df['still_alive'].std()\n",
        "n = df['still_alive'].count()\n",
        "se = sd / n ** 0.5\n",
        "\n",
        "ci = t.interval(alpha= 0.95, df= (n-1), loc= mean, scale= se)"
      ],
      "execution_count": 154,
      "outputs": []
    },
    {
      "cell_type": "code",
      "metadata": {
        "id": "63UYbXrZMud1",
        "colab_type": "code",
        "colab": {
          "base_uri": "https://localhost:8080/",
          "height": 281
        },
        "outputId": "3b855f05-a6b4-41b0-c9b3-b5f83ebc8fd9"
      },
      "source": [
        "fig, ax = plt.subplots()\n",
        "plt.axvline(x= mean)\n",
        "plt.axvline(x= ci[0], color= 'r')\n",
        "plt.axvline(x= ci[1], color= 'r')\n",
        "plt.title('Patient Still Alive')\n",
        "fig.set_facecolor(color= 'lightgrey')\n",
        "sns.kdeplot(df['still_alive'], shade= True);"
      ],
      "execution_count": 156,
      "outputs": [
        {
          "output_type": "display_data",
          "data": {
            "image/png": "[encoded data removed]",
            "text/plain": [
              "<Figure size 432x288 with 1 Axes>"
            ]
          },
          "metadata": {
            "tags": []
          }
        }
      ]
    },
    {
      "cell_type": "markdown",
      "metadata": {
        "id": "8JZaVzIpXgFG",
        "colab_type": "text"
      },
      "source": [
        "## Part 4 - Bayesian vs Frequentist Statistics\n",
        "\n",
        "Using a minimum of 2-3 sentences, give an explanation of Bayesian and Frequentist statistics - IN YOUR OWN WORDS, DO NOT PLAGIARIZE- and then compare and contrast these two approaches to statistical inference.\n",
        "\n"
      ]
    },
    {
      "cell_type": "markdown",
      "metadata": {
        "id": "MXiyzSbFIztQ",
        "colab_type": "text"
      },
      "source": [
        "Bayesisan statistics uses the known probability of events occuring to predict the probability of other events occuring that are related to the known event. The bayesian method is iterative because once a probability is calculated that probability can be then used to calculate an even more accurate likelihood of the next event occuring. The drawback of the bayesian method is that the method requires a high amount of computational processing power.\n",
        "\n",
        "Frequentist statisics use a known sample of a population to draw conclusions with a certain confidence level about the entire population. Unlike Bayes, the frequentist method only uses information about events that have already occurred to draw conclusions."
      ]
    },
    {
      "cell_type": "markdown",
      "metadata": {
        "id": "JSylP1W9JzJP",
        "colab_type": "text"
      },
      "source": [
        "# Stretch Goals: \n",
        "Do these to get a 3 on the corresponding sections. These are **not** required in order to pass the Sprint Challenge.\n",
        "\n",
        "## Part 1: \n",
        "\n",
        "In order to get a 3 on this section make sure that you do not miss any of the specified data loading tasks, also, make sure that your work **throughout the entire sprint challenge** is particularly well commented, easy to follow, and thorough. \n",
        "\n",
        "## Part 2:\n",
        "\n",
        "Write functions that can calculate t-tests and chi^2 tests on all of the appropriate column combinations from the dataset. \n",
        "\n",
        "## Part 3: \n",
        "\n",
        "Plot you confidence intervals using all three plotting methods that were demonstrated in class.\n",
        "\n",
        "## Part 4:\n",
        "\n",
        "Give an extra awesome explanation of Bayesian vs Frequentist Statistics. Maybe use code or visualizations, or any other means necessary to show an exceptional grasp of these high level concepts."
      ]
    },
    {
      "cell_type": "code",
      "metadata": {
        "id": "a-V7o2vHK3LT",
        "colab_type": "code",
        "colab": {}
      },
      "source": [
        "# YOUR CODE HERE - Feel free to add as many code and text cells as necessary"
      ],
      "execution_count": null,
      "outputs": []
    }
  ]
}